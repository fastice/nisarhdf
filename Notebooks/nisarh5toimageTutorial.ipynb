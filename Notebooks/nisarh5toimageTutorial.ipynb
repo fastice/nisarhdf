{
 "cells": [
  {
   "cell_type": "markdown",
   "id": "31cd8f50-0b37-4c08-bb96-482185c788d0",
   "metadata": {},
   "source": [
    "# nisarh5toimage Tutorial - completely Python free\n",
    "---"
   ]
  },
  {
   "cell_type": "markdown",
   "id": "3ff7a237-3971-4bcf-999b-9dd2b7eae07e",
   "metadata": {},
   "source": [
    "The [nisarhdf](https://github.com/fastice/nisarhdf) contains several Python classes for reading and working with NISAR products.  This tutorial describes `nisarh5toimage`, which is a command line utility that can:\n",
    "\n",
    "- Provide a quick summary of what's in the file (bands etc) along with essential meta data (e.g., time, orbit, frame, track, center/lat lon, etc.)\n",
    "- Pull the individual bands from NISAR hdfs and write them to tiff or binary files.\n",
    "- Produce and accompanying `.vrt` field that makes it easy to import multiband products into python or GIS packages.\n",
    "- Downsample products (useful for large hi-res GCOV products).\n",
    "- Produce quickLook PNG files."
   ]
  },
  {
   "cell_type": "markdown",
   "id": "b2c510d8-8d10-43b7-9e81-d2faeb82de88",
   "metadata": {},
   "source": [
    "## Https, S3, and Local File Access"
   ]
  },
  {
   "cell_type": "markdown",
   "id": "63ea6ba7-461c-4a99-9d19-ba440fe0c5c8",
   "metadata": {},
   "source": [
    "There are basically three ways this program can access the NISAR h5 products:\n",
    "1. As a local file on disk (e.g., /myfilesystem/nisarh5file.h5),   \n",
    "2. As an https link (e.g., https://some.web.site/nisarh5file.h5), and\n",
    "3. As a file in an s3 bucket (e.g., s3://mys3.bucket/nisarh5file.h5).\n",
    "\n",
    "Local files are the easiest in that this is the type of file access that hdf5 was designed for. \n",
    "\n",
    "Links (https:// and s3://) are more difficult because they don't allow random access. For https, the current solution used for the code described here, is to stream the whole file to memory and perform the desired operations. This can work well, but can create a lot of network traffic, especially if the file is being accessed repeatedly. If this is the case, consider downloading the file locally and performing operations on the local file. \n",
    "\n",
    "The case is similar for the s3 buckets, except the code is able to use the `ros3` driver, which allows partial access. So for example, using the `--info` flag (see below), does not download the full file but only enough to read the whole file. \n",
    "\n",
    "To keep track of network downloads, the program prints a summary of the network transfers when it exits.\n",
    "\n",
    "In these examples, we use the [NISAR sample data sets](https://science.nasa.gov/mission/nisar/sample-data/) because they are available to all. "
   ]
  },
  {
   "cell_type": "markdown",
   "id": "76c5e7bd-1f60-48dc-9a0e-c24608caec0f",
   "metadata": {},
   "source": [
    "## Sample Product Links"
   ]
  },
  {
   "cell_type": "markdown",
   "id": "b130e3b3-e531-4c32-a54c-0cfed2cc82f8",
   "metadata": {},
   "source": [
    "The only Python in this notebook is used here, to avoid cluttering examples with lengthy sample products. They can be accessed for command line calls with {}, for example `!nisarh5toimage {RSLClink}`."
   ]
  },
  {
   "cell_type": "code",
   "execution_count": 1,
   "id": "dcd37bdf-0fae-40bd-a37e-39732429d5db",
   "metadata": {},
   "outputs": [],
   "source": [
    "RSLClink = 'https://nisar.asf.earthdatacloud.nasa.gov/NISAR-SAMPLE-DATA/RSLC/' \\\n",
    "    'NISAR_L1_PR_RSLC_001_030_A_019_2000_SHNA_A_20081012T060910_20081012T060926_D00402_N_F_J_001/' \\\n",
    "    'NISAR_L1_PR_RSLC_001_030_A_019_2000_SHNA_A_20081012T060910_20081012T060926_D00402_N_F_J_001.h5'\n",
    "GCOVlink = 'https://nisar.asf.earthdatacloud.nasa.gov/NISAR-SAMPLE-DATA/GCOV/' \\\n",
    "    'NISAR_L2_PR_GCOV_001_030_A_019_2800_SHNA_A_20081012T060911_20081012T060925_D00404_N_F_J_001/' \\\n",
    "    'NISAR_L2_PR_GCOV_001_030_A_019_2800_SHNA_A_20081012T060911_20081012T060925_D00404_N_F_J_001.h5'\n",
    "GUNWlink = 'https://nisar.asf.earthdatacloud.nasa.gov/NISAR-SAMPLE-DATA/GUNW/' \\\n",
    "    'NISAR_L2_PR_GUNW_001_030_A_019_002_2000_SH_20081012T060911_20081012T060925_20081127T061000_20081127T061014_D00404_N_F_J_001/' \\\n",
    "    'NISAR_L2_PR_GUNW_001_030_A_019_002_2000_SH_20081012T060911_20081012T060925_20081127T061000_20081127T061014_D00404_N_F_J_001.h5'\n",
    "\n",
    "RIFGlink = 'https://nisar.asf.earthdatacloud.nasa.gov/NISAR-SAMPLE-DATA/RIFG/' \\\n",
    "    'NISAR_L1_PR_RIFG_001_030_A_019_002_2000_SH_20081012T060911_20081012T060925_20081127T061000_20081127T061014_D00404_N_F_J_001/' \\\n",
    "    'NISAR_L1_PR_RIFG_001_030_A_019_002_2000_SH_20081012T060911_20081012T060925_20081127T061000_20081127T061014_D00404_N_F_J_001.h5'"
   ]
  },
  {
   "cell_type": "markdown",
   "id": "a9b051d6-2004-4adb-b5d3-f7d8b94e955e",
   "metadata": {},
   "source": [
    "All of the examples below do not include the `--productFamily` option because by default this information is parsed from the file name. If a product such as *RUNW* has a generic name such as, *myFile.h5*, then the call to `nisarh5toimage` should include `--productFamily RUNW`."
   ]
  },
  {
   "cell_type": "markdown",
   "id": "ca33d426-e03b-47fe-ab51-308cf96472fe",
   "metadata": {},
   "source": [
    "## Getting Help"
   ]
  },
  {
   "cell_type": "code",
   "execution_count": 2,
   "id": "01c7447c-7636-4e19-ad47-26decb9bb722",
   "metadata": {},
   "outputs": [
    {
     "name": "stdout",
     "output_type": "stream",
     "text": [
      "usage: nisarh5toimage [-h] [--info] [--quickLook]\n",
      "                      [--productFamily {RSLC,ROFF,RIFG,RUNW,GCOV,GUNW,GOFF}]\n",
      "                      [--frequency {frequencyA,frequencyB}] [--dB] [--sigma0]\n",
      "                      [--scaleToPixels] [--wrapped]\n",
      "                      [--polarization {HH,VV,HV,VH}]\n",
      "                      [--downsampleFactor {2,4,8}]\n",
      "                      [--fields FIELDS [FIELDS ...]]\n",
      "                      [--layers {1,2,3} [{1,2,3} ...]]\n",
      "                      [--outputFormat {COG,GTiff,binary}]\n",
      "                      productName [output]\n",
      "\n",
      "\u001b[1mConvert NISAR H5 product to Tiff(s), COG(s) or binary files\u001b[0m\n",
      "\n",
      "positional arguments:\n",
      "  productName           NISAR h5 product (file path, s3, or https)\n",
      "  output                Root name for ouput (not required for --info)\n",
      "\n",
      "options:\n",
      "  -h, --help            show this help message and exit\n",
      "  --info                Print summary info only\n",
      "  --quickLook           Write a quick look PNG file (GCOV )\n",
      "  --productFamily {RSLC,ROFF,RIFG,RUNW,GCOV,GUNW,GOFF}\n",
      "                        NISAR product type (e.g., RUNW, GUNW etc) [parse from\n",
      "                        product path]\n",
      "  --frequency {frequencyA,frequencyB}\n",
      "                        Frequency\n",
      "  --dB                  Output results in dB (GCOV only)\n",
      "  --sigma0              Output results as sigma0 (GCOV only) [gamma0]\n",
      "  --scaleToPixels       Scale offsets to pixels (ROFF, GOFF only)\n",
      "  --wrapped             Wrapped interferogram (GUNW only)\n",
      "  --polarization {HH,VV,HV,VH}\n",
      "                        Polarization for \u001b[1mnon-GCOV \u001b[0m products [first\n",
      "                        like pol]\n",
      "  --downsampleFactor {2,4,8}\n",
      "                        Reduce resolution by 1/subsampleFactor (GCOV only)\n",
      "                        [full res]\n",
      "  --fields FIELDS [FIELDS ...]\n",
      "                        Select fields including GCOV covariance terms (e.g.,\n",
      "                        HHHH, HVHV), use all for everything. Use --info to see\n",
      "                        defaults for product type [defaults]\n",
      "  --layers {1,2,3} [{1,2,3} ...]\n",
      "                        For offsets only, layer numbers to access [1-3]\n",
      "  --outputFormat {COG,GTiff,binary}\n",
      "                        Output format [COG: cloud optimized geotiff]\n"
     ]
    }
   ],
   "source": [
    "!nisarh5toimage --help"
   ]
  },
  {
   "cell_type": "markdown",
   "id": "f250ff65-2b5a-499d-812c-f55abdca98d8",
   "metadata": {},
   "source": [
    "## Get Summary Information"
   ]
  },
  {
   "cell_type": "markdown",
   "id": "e9920f93-14f5-4d53-975d-0781acf96218",
   "metadata": {},
   "source": [
    "To print a summary of what's in a file use this command:"
   ]
  },
  {
   "cell_type": "code",
   "execution_count": 3,
   "id": "294135f6-62b3-437d-bbf2-e4c8665428c3",
   "metadata": {},
   "outputs": [
    {
     "name": "stdout",
     "output_type": "stream",
     "text": [
      "\u001b[1m\n",
      "Defaults for RSLC: \u001b[0m\n",
      "HH\n",
      "VV\n",
      "HV\n",
      "VH\n",
      "\u001b[1mAvailable fields for None: \u001b[0m\n",
      "\n",
      "\u001b[1mSelect Parameters\u001b[0m\n",
      "RSLC.track = 30 \n",
      "RSLC.referenceOrbit = 0 \n",
      "RSLC.frame = 19 \n",
      "RSLC.datetime = 2008-10-12 06:09:12 \n",
      "RSLC.centerLat = None\n",
      "RSLC.centerLon = None\n",
      "RSLC.referenceGranule = None\n",
      "RSLC.SLCNearRange = 743587.3933110968 \n",
      "RSLC.SLCFarRange = 772526.7340224093 \n",
      "RSLC.SLCFirstZeroDopplerTime = 22152.0 \n",
      "RSLC.SLCLastZeroDopplerTime = 22164.999342105264 \n",
      "RSLC.LookDirection = right \n",
      "RSLC.PassType = ascending \n",
      "RSLC.Wavelength = None\n",
      "RSLC.PRF = 1520.0 \n",
      "RSLC.epsg = None \n",
      "RSLC.SLCRangeSize = 6179 \n",
      "RSLC.SLCAzimuthSize = 19760 \n",
      "RSLC.SLCRangePixelSize = 4.68425715625 \n",
      "RSLC.SLCAzimuthPixelSize = 4.484027431092003 \n",
      "RSLC.SLCZeroDopplerTimeSpacing = 0.0006578947368421052 \n",
      "RSLC.SLCNearRange = 743587.3933110968 \n",
      "RSLC.SLCFirstZeroDopplerTime = 22152.0 \n",
      "RSLC.SLCIncidenceCenter = None\n",
      "\n",
      "\u001b[1mData Fields\u001b[0m\n",
      "RSLC.HH.HH*\n",
      "* Indicates data not loaded into memory.\n",
      "\n",
      "\u001b[1mRun time: \u001b[0m\n",
      "Load data 0:00:06.044503\n",
      "Write data 0:00:00.000238\n",
      "Total 0:00:06.044741\n",
      "\n",
      "\u001b[1mNetwork traffic: \u001b[0m\n",
      "Bytes sent: 1.68577 MB\n",
      "Bytes received: 506.53536 MB\n"
     ]
    }
   ],
   "source": [
    "!nisarh5toimage {RSLClink} --info"
   ]
  },
  {
   "cell_type": "markdown",
   "id": "14a3753d-e1fb-4583-9d6f-824826fa9b44",
   "metadata": {},
   "source": [
    "Note this command loads entire file in memory when reading from https. With s3 links, you can use the `--ros3` to reduce network traffic and memory usage. This should not be in issue for local files."
   ]
  },
  {
   "cell_type": "markdown",
   "id": "69de928c-2dfe-444b-b23f-957440e96ba4",
   "metadata": {},
   "source": [
    "## Quicklook Images"
   ]
  },
  {
   "cell_type": "markdown",
   "id": "f85e51ab-415a-45c8-8fb0-5e388eff2adc",
   "metadata": {},
   "source": [
    "**Note all of the examples shown in this section can be run with out quicklooks to produce real data.**\n",
    "\n",
    "Quicklook, downscaled and rescaled images can be created for all products except offsets. Note the rescaling means that these are 'images' not 'data'. In this example to avoid too large an image, a `downsampleFactor` of 8 is used and the data are converted to dB using `-dB`.\n",
    "\n"
   ]
  },
  {
   "cell_type": "markdown",
   "id": "276e37b4-c1f2-4deb-aae5-c15cc8ac8ad6",
   "metadata": {},
   "source": [
    "### GCOV Quicklook"
   ]
  },
  {
   "cell_type": "markdown",
   "id": "4fb6154c-6e45-4f3e-925f-7d0124de7fb1",
   "metadata": {},
   "source": [
    "First make directory save the output files in."
   ]
  },
  {
   "cell_type": "code",
   "execution_count": 4,
   "id": "da05186f-9688-4d51-95f7-899d5085bf9c",
   "metadata": {},
   "outputs": [],
   "source": [
    "![ -d output ] || mkdir output"
   ]
  },
  {
   "cell_type": "code",
   "execution_count": 5,
   "id": "189076e9-97c5-4b06-a9e4-856831bce925",
   "metadata": {},
   "outputs": [
    {
     "name": "stdout",
     "output_type": "stream",
     "text": [
      "computing DB\n",
      "/home/jovyan/nisarhdf/nisarhdf/nisarBaseHDF.py:1819: RuntimeWarning: invalid value encountered in cast\n",
      "  arr = arr.astype(np.uint8)\n",
      "\n",
      "\u001b[1mRun time: \u001b[0m\n",
      "Load data 0:00:02.526452\n",
      "Write data 0:00:00.153442\n",
      "Total 0:00:02.679894\n",
      "\n",
      "\u001b[1mNetwork traffic: \u001b[0m\n",
      "Bytes sent: 0.645539 MB\n",
      "Bytes received: 173.430898 MB\n"
     ]
    }
   ],
   "source": [
    "!nisarh5toimage {GCOVlink} output/GCOVQL --quickLook --downsampleFactor 8 --dB"
   ]
  },
  {
   "cell_type": "markdown",
   "id": "1e434a40-81b7-450a-ab0f-81b87a89f6fd",
   "metadata": {},
   "source": [
    "By default this call produced a quicklook for the first like-pol (the default). Note you can use `--info` to see both the default and available fields for any product. The resulting quick look is\n",
    "\n",
    "![](output/GCOVQL.HHHH.png)"
   ]
  },
  {
   "cell_type": "markdown",
   "id": "6e042cf9-465c-4544-b313-82fc12323807",
   "metadata": {},
   "source": [
    "### GUNW Quicklook"
   ]
  },
  {
   "cell_type": "markdown",
   "id": "632a256d-c739-472f-8914-328f6ce469a3",
   "metadata": {},
   "source": [
    "Note several products have more than one group of data. For example, the *GUNW* products contain both the *unwrapped* and *unwrapped* products. Only on group of products can be access with a single `nisarh5toimage` call. For GUNW products, the default is the unwrapped phase. All of the bands (`--fields all`) can be processed to create quicklooks with the name `ouputRoot.band.png` with the call:"
   ]
  },
  {
   "cell_type": "code",
   "execution_count": 6,
   "id": "1e972cc8-0cb2-40b0-9bde-5b1b894f3a94",
   "metadata": {},
   "outputs": [
    {
     "name": "stdout",
     "output_type": "stream",
     "text": [
      "/home/jovyan/nisarhdf/nisarhdf/nisarBaseHDF.py:1819: RuntimeWarning: invalid value encountered in cast\n",
      "  arr = arr.astype(np.uint8)\n",
      "\n",
      "\u001b[1mRun time: \u001b[0m\n",
      "Load data 0:00:03.255626\n",
      "Write data 0:00:00.879906\n",
      "Total 0:00:04.135532\n",
      "\n",
      "\u001b[1mNetwork traffic: \u001b[0m\n",
      "Bytes sent: 0.926283 MB\n",
      "Bytes received: 266.216467 MB\n"
     ]
    }
   ],
   "source": [
    "!nisarh5toimage {GUNWlink} output/GUNWQL --quickLook --fields all"
   ]
  },
  {
   "cell_type": "code",
   "execution_count": 7,
   "id": "4e57e4f1-6ba1-413b-84fc-73bcc9c86706",
   "metadata": {},
   "outputs": [
    {
     "name": "stdout",
     "output_type": "stream",
     "text": [
      "-rw-r--r-- 1 jovyan users 1177361 Sep 27 00:36 output/GUNWQL.coherenceMagnitude.png\n",
      "-rw-r--r-- 1 jovyan users   10248 Sep 27 00:36 output/GUNWQL.connectedComponents.png\n",
      "-rw-r--r-- 1 jovyan users   90676 Sep 27 00:36 output/GUNWQL.ionospherePhaseScreen.png\n",
      "-rw-r--r-- 1 jovyan users  117130 Sep 27 00:36 output/GUNWQL.ionospherePhaseScreenUncertainty.png\n",
      "-rw-r--r-- 1 jovyan users  701196 Sep 27 00:36 output/GUNWQL.unwrappedPhase.png\n",
      "-rw-r--r-- 1 jovyan users  441669 Sep 27 00:33 output/GUNWQL.wrappedInterferogram.png\n"
     ]
    }
   ],
   "source": [
    "!ls -l output/GUNWQL.*.png"
   ]
  },
  {
   "cell_type": "markdown",
   "id": "18809420-cc5a-4b5b-9367-d0e7037abe2e",
   "metadata": {},
   "source": [
    "The phase and correlation quicklooks arw shown below:\n",
    " Phase | Correlation |\n",
    "|-------|-----------|\n",
    "| ![](output/GUNWQL.unwrappedPhase.png) | ![](output/GUNWQL.coherenceMagnitude.png) |"
   ]
  },
  {
   "cell_type": "markdown",
   "id": "3d728d2a-1d06-469e-b90a-cbabe0f8bd27",
   "metadata": {},
   "source": [
    "As mentioned above, some products have multiple groups. To access the **wrapped** phase data, the above call is modified as:"
   ]
  },
  {
   "cell_type": "code",
   "execution_count": 8,
   "id": "2c632c7c-051b-4f14-8b01-407a9bb84ccc",
   "metadata": {},
   "outputs": [
    {
     "name": "stdout",
     "output_type": "stream",
     "text": [
      "/opt/conda/lib/python3.12/site-packages/matplotlib/colors.py:3175: RuntimeWarning: invalid value encountered in cast\n",
      "  i = (h * 6.0).astype(int)\n",
      "/home/jovyan/nisarhdf/nisarhdf/nisarBaseHDF.py:1781: RuntimeWarning: invalid value encountered in cast\n",
      "  rgb = (mcolors.hsv_to_rgb(hsv) * 255).astype(np.uint8)\n",
      "\n",
      "\u001b[1mRun time: \u001b[0m\n",
      "Load data 0:00:03.741967\n",
      "Write data 0:00:00.228663\n",
      "Total 0:00:03.970630\n",
      "\n",
      "\u001b[1mNetwork traffic: \u001b[0m\n",
      "Bytes sent: 1.274629 MB\n",
      "Bytes received: 266.42866 MB\n"
     ]
    }
   ],
   "source": [
    "!nisarh5toimage {GUNWlink} output/GUNWQL --wrapped --quickLook --downsampleFactor 8"
   ]
  },
  {
   "cell_type": "code",
   "execution_count": 9,
   "id": "e2dc6f62-0e02-4cac-a223-5ed9b4f69190",
   "metadata": {},
   "outputs": [
    {
     "name": "stdout",
     "output_type": "stream",
     "text": [
      "-rw-r--r-- 1 jovyan users 441669 Sep 27 00:36 output/GUNWQL.wrappedInterferogram.png\n"
     ]
    }
   ],
   "source": [
    "!ls -l output/GUNWQL.wrappedInterferogram.png"
   ]
  },
  {
   "cell_type": "markdown",
   "id": "e2190df9-fd23-4e04-8b7e-0acd39e52f43",
   "metadata": {},
   "source": [
    "The quicklook shows the phase of the interfergram as hue over the it's magnitude as the value in and hsv image.\n",
    "![](output/GUNWQL.wrappedInterferogram.png)"
   ]
  },
  {
   "cell_type": "markdown",
   "id": "fdc29fc9-0a5e-47a4-a4e9-6a96f1be9eb3",
   "metadata": {},
   "source": [
    "## GeoTIFF Examples"
   ]
  },
  {
   "cell_type": "markdown",
   "id": "22a5f5f3-b424-4140-a85a-c738cf2a3649",
   "metadata": {},
   "source": [
    "The default output for `nisarh5toimage` is cloud optimized geotiff `--outputFormat COG`, which is geotiff that is optimized for cloud access and which includes pyramids, which make for fast scroll in packages like QGIS and ARGGIS. If pyramids are not needed, the data can be saved as `--outputFormat GTiff`. Finally, the data can also be written out as binary files (`--outputFormat binary`). In all cases, an accompanying `.vrt` file is written, which allows multiple bands to be treated as a single entity. For example, to read in the all the data from an h5 with `rioxarray` as shown in the [notebook](https://github.com/fastice/nisarhdf/blob/main/Notebooks/GUNWHDFtutorial.ipynb) as well as the other `nisarhdf` notebooks."
   ]
  },
  {
   "cell_type": "markdown",
   "id": "626dd83a-266f-4867-81c3-7078bd3e5f58",
   "metadata": {},
   "source": [
    "## RIFG to Tiff Example"
   ]
  },
  {
   "cell_type": "markdown",
   "id": "1c8ef40c-3861-45e5-ad43-bd96e68ae9a5",
   "metadata": {},
   "source": [
    "In this example the two data fields, *wrappedInterferogram* and *coherenceMagnitude* are saved to cloud-optimized geotiff. In this example, the `--outputFormat COG` is not actually needed because it is the default. This value could be changed to either `GTiff` or `binary`"
   ]
  },
  {
   "cell_type": "code",
   "execution_count": 10,
   "id": "6875762b-393f-4eb6-bd01-cfed48d6e873",
   "metadata": {},
   "outputs": [
    {
     "name": "stdout",
     "output_type": "stream",
     "text": [
      "ref orbit None\n",
      "ref orbit None\n",
      "\n",
      "\u001b[1mRun time: \u001b[0m\n",
      "Load data 0:00:02.359593\n",
      "Write data 0:00:01.807157\n",
      "Total 0:00:04.166750\n",
      "\n",
      "\u001b[1mNetwork traffic: \u001b[0m\n",
      "Bytes sent: 0.364098 MB\n",
      "Bytes received: 118.182784 MB\n",
      "-rw-r--r-- 1 jovyan users 37210560 Sep 27 00:36 output/RIFGexample.coherenceMagnitude.tif\n",
      "-rw-r--r-- 1 jovyan users     3695 Sep 27 00:36 output/RIFGexample.vrt\n",
      "-rw-r--r-- 1 jovyan users 83159058 Sep 27 00:36 output/RIFGexample.wrappedInterferogram.tif\n"
     ]
    }
   ],
   "source": [
    "!nisarh5toimage {RIFGlink} output/RIFGexample --fields all --outputFormat COG\n",
    "!ls -l output/RIFGexample.*"
   ]
  },
  {
   "cell_type": "code",
   "execution_count": 11,
   "id": "5b6f66fb-3ad0-4ae4-b946-e082ff7da05c",
   "metadata": {},
   "outputs": [
    {
     "name": "stdout",
     "output_type": "stream",
     "text": [
      "<VRTDataset rasterXSize=\"2058\" rasterYSize=\"3079\">\n",
      "  <SRS dataAxisToSRSAxisMapping=\"1,2\">PROJCS[\"WGS 84 / UTM zone 11N\",GEOGCS[\"WGS 84\",DATUM[\"WGS_1984\",SPHEROID[\"WGS 84\",6378137,298.257223563,AUTHORITY[\"EPSG\",\"7030\"]],AUTHORITY[\"EPSG\",\"6326\"]],PRIMEM[\"Greenwich\",0,AUTHORITY[\"EPSG\",\"8901\"]],UNIT[\"degree\",0.0174532925199433,AUTHORITY[\"EPSG\",\"9122\"]],AUTHORITY[\"EPSG\",\"4326\"]],PROJECTION[\"Transverse_Mercator\"],PARAMETER[\"latitude_of_origin\",0],PARAMETER[\"central_meridian\",-117],PARAMETER[\"scale_factor\",0.9996],PARAMETER[\"false_easting\",500000],PARAMETER[\"false_northing\",0],UNIT[\"metre\",1,AUTHORITY[\"EPSG\",\"9001\"]],AXIS[\"Easting\",EAST],AXIS[\"Northing\",NORTH],AUTHORITY[\"EPSG\",\"32611\"]]</SRS>\n",
      "  <GeoTransform>  7.4360786723558849e+05,  1.4052771468750000e+01,  0.0000000000000000e+00,  2.2165746381315788e+04,  0.0000000000000000e+00, -4.6052631578947364e-03</GeoTransform>\n",
      "  <Metadata>\n",
      "    <MDI key=\"bands\">['wrappedInterferogram', 'coherenceMagnitude']</MDI>\n",
      "    <MDI key=\"ByteOrder\">LSB</MDI>\n",
      "    <MDI key=\"centerLat\">34.80886765065605</MDI>\n",
      "    <MDI key=\"centerLon\">-117.97138214338105</MDI>\n",
      "    <MDI key=\"datetime\">2008-10-12 06:09:11.567105</MDI>\n",
      "    <MDI key=\"epsg\">32611</MDI>\n",
      "    <MDI key=\"frame\">19</MDI>\n",
      "    <MDI key=\"LookDirection\">right</MDI>\n",
      "    <MDI key=\"MLAzimuthSize\">3079</MDI>\n",
      "    <MDI key=\"MLFirstZeroDopplerTime\">22151.56907868421</MDI>\n",
      "    <MDI key=\"MLIncidenceCenter\">24.100457850292496</MDI>\n",
      "    <MDI key=\"MLNearRange\">743614.8936213228</MDI>\n",
      "    <MDI key=\"MLRangePixelSize\">14.05277146875</MDI>\n",
      "    <MDI key=\"MLRangeSize\">2058</MDI>\n",
      "    <MDI key=\"MLZeroDopplerTimeSpacing\">0.004605263157894736</MDI>\n",
      "    <MDI key=\"NumberAzimuthLooks\">7</MDI>\n",
      "    <MDI key=\"NumberRangeLooks\">3</MDI>\n",
      "    <MDI key=\"PassType\">ascending</MDI>\n",
      "    <MDI key=\"PRF\">1520.0</MDI>\n",
      "    <MDI key=\"referenceGranule\">NISAR_L1_PR_RSLC_001_030_A_019_2800_SHNA_A_20081012T060911_20081012T060925_D00404_N_F_J_001.h5</MDI>\n",
      "    <MDI key=\"referenceOrbit\">0</MDI>\n",
      "    <MDI key=\"secondaryDatetime\">2008-11-27 06:10:00.442763</MDI>\n",
      "    <MDI key=\"secondaryGranule\">NISAR_L1_PR_RSLC_002_030_A_019_2800_SHNA_A_20081127T061000_20081127T061014_D00404_N_F_J_001.h5</MDI>\n",
      "    <MDI key=\"secondaryOrbit\">0</MDI>\n",
      "    <MDI key=\"SLCFarRange\">772526.1287896979</MDI>\n",
      "    <MDI key=\"SLCFirstZeroDopplerTime\">22151.567105</MDI>\n",
      "    <MDI key=\"SLCLastZeroDopplerTime\">22165.749341842104</MDI>\n",
      "    <MDI key=\"SLCNearRange\">743610.2093641666</MDI>\n",
      "    <MDI key=\"track\">30</MDI>\n",
      "    <MDI key=\"Wavelength\">0.2360571</MDI>\n",
      "  </Metadata>\n",
      "  <VRTRasterBand dataType=\"CFloat32\" band=\"1\">\n",
      "    <Metadata>\n",
      "      <MDI key=\"Description\">wrappedInterferogram</MDI>\n",
      "    </Metadata>\n",
      "    <SimpleSource>\n",
      "      <SourceFilename relativeToVRT=\"1\">RIFGexample.wrappedInterferogram.tif</SourceFilename>\n",
      "      <SourceBand>1</SourceBand>\n",
      "      <SourceProperties RasterXSize=\"2058\" RasterYSize=\"3079\" DataType=\"CFloat32\" BlockXSize=\"512\" BlockYSize=\"512\" />\n",
      "      <SrcRect xOff=\"0\" yOff=\"0\" xSize=\"2058\" ySize=\"3079\" />\n",
      "      <DstRect xOff=\"0\" yOff=\"0\" xSize=\"2058\" ySize=\"3079\" />\n",
      "    </SimpleSource>\n",
      "  </VRTRasterBand>\n",
      "  <VRTRasterBand dataType=\"Float32\" band=\"2\">\n",
      "    <Metadata>\n",
      "      <MDI key=\"Description\">coherenceMagnitude</MDI>\n",
      "    </Metadata>\n",
      "    <NoDataValue>nan</NoDataValue>\n",
      "    <ComplexSource>\n",
      "      <SourceFilename relativeToVRT=\"1\">RIFGexample.coherenceMagnitude.tif</SourceFilename>\n",
      "      <SourceBand>1</SourceBand>\n",
      "      <SourceProperties RasterXSize=\"2058\" RasterYSize=\"3079\" DataType=\"Float32\" BlockXSize=\"512\" BlockYSize=\"512\" />\n",
      "      <SrcRect xOff=\"0\" yOff=\"0\" xSize=\"2058\" ySize=\"3079\" />\n",
      "      <DstRect xOff=\"0\" yOff=\"0\" xSize=\"2058\" ySize=\"3079\" />\n",
      "      <NODATA>nan</NODATA>\n",
      "    </ComplexSource>\n",
      "  </VRTRasterBand>\n",
      "</VRTDataset>\n"
     ]
    }
   ],
   "source": [
    "!cat output/RIFGexample.vrt"
   ]
  },
  {
   "cell_type": "markdown",
   "id": "b414c15b-c1cf-4a87-a55c-13667ba6f556",
   "metadata": {},
   "source": [
    "The above example, illustrates that two COGs (RIFGexample.coherenceMagnitude.tif and RIFGexample.wrappedInterferogram.tif) were created, along with RIFGexample.vrt, the contents of which are shown above. Typically the vrt contains:\n",
    "1. The projection information (wkt),\n",
    "2. Geotransform and other geometric information,\n",
    "3. Some basic SAR parameters, and\n",
    "4. Some simple band specific information."
   ]
  },
  {
   "cell_type": "markdown",
   "id": "58ea865b-46f8-4f29-9e87-7c042b126e2e",
   "metadata": {},
   "source": [
    "**Note the wkt for the range/Doppler products is not the actual wkt and the file is not strictly speaking a geotiff. The geotransform allows the image coordinates to be decoded in terms of range in meters and azimuth time in seconds.**"
   ]
  },
  {
   "cell_type": "markdown",
   "id": "f68c2360-5507-4081-bf5f-c83af69d5d5f",
   "metadata": {},
   "source": [
    "## GCOV to Binary Example"
   ]
  },
  {
   "cell_type": "markdown",
   "id": "4f854582-f5e8-41f5-a6a2-2b15e2db0ba1",
   "metadata": {},
   "source": [
    "In this example, the GCOV data is written to flat binary files described by their `.vrt` file. In this example, the full res was more than was needed, so the data were downsampled by a factor 2, converted to sigma0 using the included *rtcGammaToSigmaFactor* field."
   ]
  },
  {
   "cell_type": "code",
   "execution_count": 12,
   "id": "88ff1495-4a94-495a-804f-2bc0ec87f2ba",
   "metadata": {},
   "outputs": [
    {
     "name": "stdout",
     "output_type": "stream",
     "text": [
      "computing DB\n",
      "\n",
      "\u001b[1mRun time: \u001b[0m\n",
      "Load data 0:00:03.112970\n",
      "Write data 0:00:00.835737\n",
      "Total 0:00:03.948707\n",
      "\n",
      "\u001b[1mNetwork traffic: \u001b[0m\n",
      "Bytes sent: 0.578211 MB\n",
      "Bytes received: 173.239877 MB\n"
     ]
    }
   ],
   "source": [
    "!nisarh5toimage {GCOVlink} output/GCOVBinary --downsampleFactor 2  --dB --fields HHHH numberOfLooks rtcGammaToSigmaFactor --outputFormat binary"
   ]
  },
  {
   "cell_type": "code",
   "execution_count": 13,
   "id": "5d36e6a1-a767-4126-a4a1-1d684993466d",
   "metadata": {},
   "outputs": [
    {
     "name": "stdout",
     "output_type": "stream",
     "text": [
      "-rw-r--r-- 1 jovyan users 28263680 Sep 27 00:36 output/GCOVBinary.HHHH\n",
      "-rw-r--r-- 1 jovyan users 28263680 Sep 27 00:36 output/GCOVBinary.numberOfLooks\n",
      "-rw-r--r-- 1 jovyan users 28263680 Sep 27 00:36 output/GCOVBinary.rtcGammaToSigmaFactor\n",
      "-rw-r--r-- 1 jovyan users     3365 Sep 27 00:36 output/GCOVBinary.vrt\n"
     ]
    }
   ],
   "source": [
    "!ls -l output/GCOVBinary*"
   ]
  },
  {
   "cell_type": "markdown",
   "id": "a70b7080-94ec-4ac3-8b62-345f80c8f138",
   "metadata": {},
   "source": [
    "As with the tiff examples, the `.vrt` file can be used to read the products with packages like rioxarray or imported directly into QGIS."
   ]
  }
 ],
 "metadata": {
  "kernelspec": {
   "display_name": "base",
   "language": "python",
   "name": "base"
  },
  "language_info": {
   "codemirror_mode": {
    "name": "ipython",
    "version": 3
   },
   "file_extension": ".py",
   "mimetype": "text/x-python",
   "name": "python",
   "nbconvert_exporter": "python",
   "pygments_lexer": "ipython3",
   "version": "3.12.11"
  }
 },
 "nbformat": 4,
 "nbformat_minor": 5
}
