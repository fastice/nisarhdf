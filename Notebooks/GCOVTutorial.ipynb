{
 "cells": [
  {
   "cell_type": "markdown",
   "id": "6c5a33ac-443e-48a5-aa6d-e33b2256cd0b",
   "metadata": {},
   "source": [
    "# Tutorial Notebook for nisarhdf.nisarGCOVHDF\n",
    "---"
   ]
  },
  {
   "cell_type": "markdown",
   "id": "303ca4fc-b88a-46e9-a26c-0ba4e92d9df8",
   "metadata": {},
   "source": [
    "This notebook demonstrates the functionality of `nisarGCOVHDF`, which is at tool for reading NISAR **GCOV** products.  Some of its functionality is specifically developed for the Greenland Mapping Project (GrIMP) workflows, but it may also be of general use for working with these products. If nothing else, the source code provides examples of how to unpack these projects."
   ]
  },
  {
   "cell_type": "markdown",
   "id": "614e3e76-ec4e-4f27-adb1-62c8a217b8e0",
   "metadata": {},
   "source": [
    "## Installation"
   ]
  },
  {
   "cell_type": "markdown",
   "id": "e1d98c68-3771-431e-973a-18f05a349825",
   "metadata": {},
   "source": [
    "The easiest way to ensure the code works is to create a custom environment using the *environment.yml* file included in this *nisarhdf* repository. To do so execute the following,\n",
    "\n",
    "`conda env create -f environment.yml`\n",
    "\n",
    "Then setup the kernel for the Jupyter notebooks with the command:\n",
    "\n",
    "`python -m ipykernel install --user --name=nisarcryo`\n",
    "\n",
    "Then activate the environment:\n",
    "\n",
    "`conda activate nisarcryo`\n",
    "\n",
    "Finally, start Jupyter and open the notebooks.\n",
    "\n",
    "**Even if you want to work with your existing environment, the *environment.yml* file demonstrates which packages must be installed if they are not already present.**\n"
   ]
  },
  {
   "cell_type": "markdown",
   "id": "b6a33b73-a341-4d7c-a67d-67a003528ee3",
   "metadata": {},
   "source": [
    "## Python Imports"
   ]
  },
  {
   "cell_type": "code",
   "execution_count": 1,
   "id": "57fa1c33-faae-4171-b376-f64591ae1620",
   "metadata": {},
   "outputs": [],
   "source": [
    "%load_ext autoreload\n",
    "%autoreload 2\n",
    "import nisarhdf\n",
    "import matplotlib.pyplot as plt\n",
    "import numpy as np\n",
    "from mpl_toolkits.axes_grid1 import make_axes_locatable\n",
    "import rioxarray\n",
    "from osgeo import gdal\n",
    "import os\n",
    "import getpass\n",
    "import os"
   ]
  },
  {
   "cell_type": "code",
   "execution_count": 2,
   "id": "ac53471d-de0e-41cc-b898-88bc27311e97",
   "metadata": {},
   "outputs": [],
   "source": [
    "if not os.path.exists('./output'):\n",
    "    os.mkdir('./output')"
   ]
  },
  {
   "cell_type": "markdown",
   "id": "8ab8b46b-39c5-41db-9f89-401fac3da2cd",
   "metadata": {},
   "source": [
    "## Open the HDF"
   ]
  },
  {
   "cell_type": "markdown",
   "id": "1bc443e4-dfbb-46d2-b037-28d0c5139bbf",
   "metadata": {},
   "source": [
    "Edit the path below to point to the ROFF product you wish to work with."
   ]
  },
  {
   "cell_type": "code",
   "execution_count": 3,
   "id": "6b3fc913-a0eb-40f2-b6e7-dc1e75030b13",
   "metadata": {},
   "outputs": [],
   "source": [
    "if getpass.getuser() in ['jovyan']:\n",
    "    # This path is incorrect, needs a path to an S3 gcov\n",
    "    GCOVFile = 's3://nisar-st-data-ondemand/ALOS-2-data/INSAR/cryo_sample_products_092024/frame_280/gcov/gcov_ALOS2496725280-230804.h5'\n",
    "else:\n",
    "    GCOVFile = '/Volumes/insar1/ian/NISAR/frame_280/gcov/products/gcov_ALOS2496725280-230804.h5'  # Modify to local file path"
   ]
  },
  {
   "cell_type": "code",
   "execution_count": null,
   "id": "ff3f24e8-97b1-433d-8c8e-cf13070b9624",
   "metadata": {},
   "outputs": [],
   "source": []
  },
  {
   "cell_type": "markdown",
   "id": "420fdd46-a70f-4605-9d67-457473026be4",
   "metadata": {},
   "source": [
    "Create an instance and open the hdf as shown below. For normal products, you shouldn't have to specify the orbit, but while the orbit fields are present in the example file, they are not populated. When you open the hdf, you can specify the precise orbit XMLs if desired, which are release a few weeks after the MOI orbits used in the processing."
   ]
  },
  {
   "cell_type": "code",
   "execution_count": 4,
   "id": "bdd701f1-2e5b-48f4-a565-8783e07deae6",
   "metadata": {},
   "outputs": [
    {
     "name": "stdout",
     "output_type": "stream",
     "text": [
      "Could not open with page_buf_size, opening for non-optimized access\n"
     ]
    },
    {
     "ename": "OSError",
     "evalue": "Unable to synchronously open file (curl cannot perform request)",
     "output_type": "error",
     "traceback": [
      "\u001b[0;31m---------------------------------------------------------------------------\u001b[0m",
      "\u001b[0;31mOSError\u001b[0m                                   Traceback (most recent call last)",
      "File \u001b[0;32m~/develop/nisarhdf/nisarhdf/nisarBaseHDF.py:472\u001b[0m, in \u001b[0;36mnisarBaseHDF.openHDF\u001b[0;34m(self, hdfFile, referenceOrbitXML, secondaryOrbitXML, referenceOrbit, secondaryOrbit, noLoadData, **keywords)\u001b[0m\n\u001b[1;32m    471\u001b[0m \u001b[38;5;28;01mif\u001b[39;00m \u001b[38;5;124m'\u001b[39m\u001b[38;5;124ms3\u001b[39m\u001b[38;5;124m'\u001b[39m \u001b[38;5;129;01min\u001b[39;00m hdfFile:\n\u001b[0;32m--> 472\u001b[0m     \u001b[38;5;28mself\u001b[39m\u001b[38;5;241m.\u001b[39mh5Full \u001b[38;5;241m=\u001b[39m \u001b[38;5;28;43mself\u001b[39;49m\u001b[38;5;241;43m.\u001b[39;49m\u001b[43m_openS3\u001b[49m\u001b[43m(\u001b[49m\u001b[43mhdfFile\u001b[49m\u001b[43m)\u001b[49m\n\u001b[1;32m    473\u001b[0m \u001b[38;5;28;01melse\u001b[39;00m:\n",
      "File \u001b[0;32m~/develop/nisarhdf/nisarhdf/nisarBaseHDF.py:422\u001b[0m, in \u001b[0;36mnisarBaseHDF._openS3\u001b[0;34m(self, s3link, page_buf_size)\u001b[0m\n\u001b[1;32m    421\u001b[0m \u001b[38;5;66;03m# Open the file and return\u001b[39;00m\n\u001b[0;32m--> 422\u001b[0m \u001b[38;5;28;01mreturn\u001b[39;00m \u001b[43mh5py\u001b[49m\u001b[38;5;241;43m.\u001b[39;49m\u001b[43mFile\u001b[49m\u001b[43m(\u001b[49m\u001b[43mname\u001b[49m\u001b[38;5;241;43m=\u001b[39;49m\u001b[43ms3link\u001b[49m\u001b[43m,\u001b[49m\n\u001b[1;32m    423\u001b[0m \u001b[43m                 \u001b[49m\u001b[43mmode\u001b[49m\u001b[38;5;241;43m=\u001b[39;49m\u001b[38;5;124;43m\"\u001b[39;49m\u001b[38;5;124;43mr\u001b[39;49m\u001b[38;5;124;43m\"\u001b[39;49m\u001b[43m,\u001b[49m\n\u001b[1;32m    424\u001b[0m \u001b[43m                 \u001b[49m\u001b[43mdriver\u001b[49m\u001b[38;5;241;43m=\u001b[39;49m\u001b[38;5;124;43m\"\u001b[39;49m\u001b[38;5;124;43mros3\u001b[39;49m\u001b[38;5;124;43m\"\u001b[39;49m\u001b[43m,\u001b[49m\n\u001b[1;32m    425\u001b[0m \u001b[43m                 \u001b[49m\u001b[43mpage_buf_size\u001b[49m\u001b[38;5;241;43m=\u001b[39;49m\u001b[43mpage_buf_size\u001b[49m\u001b[43m,\u001b[49m\n\u001b[1;32m    426\u001b[0m \u001b[43m                 \u001b[49m\u001b[43maws_region\u001b[49m\u001b[38;5;241;43m=\u001b[39;49m\u001b[43mregion\u001b[49m\u001b[38;5;241;43m.\u001b[39;49m\u001b[43mencode\u001b[49m\u001b[43m(\u001b[49m\u001b[43m)\u001b[49m\u001b[43m,\u001b[49m\n\u001b[1;32m    427\u001b[0m \u001b[43m                 \u001b[49m\u001b[43msecret_id\u001b[49m\u001b[38;5;241;43m=\u001b[39;49m\u001b[38;5;28;43mself\u001b[39;49m\u001b[38;5;241;43m.\u001b[39;49m\u001b[43ms3cred\u001b[49m\u001b[38;5;241;43m.\u001b[39;49m\u001b[43maccess_key\u001b[49m\u001b[38;5;241;43m.\u001b[39;49m\u001b[43mencode\u001b[49m\u001b[43m(\u001b[49m\u001b[43m)\u001b[49m\u001b[43m,\u001b[49m\n\u001b[1;32m    428\u001b[0m \u001b[43m                 \u001b[49m\u001b[43msecret_key\u001b[49m\u001b[38;5;241;43m=\u001b[39;49m\u001b[38;5;28;43mself\u001b[39;49m\u001b[38;5;241;43m.\u001b[39;49m\u001b[43ms3cred\u001b[49m\u001b[38;5;241;43m.\u001b[39;49m\u001b[43msecret_key\u001b[49m\u001b[38;5;241;43m.\u001b[39;49m\u001b[43mencode\u001b[49m\u001b[43m(\u001b[49m\u001b[43m)\u001b[49m\u001b[43m,\u001b[49m\n\u001b[1;32m    429\u001b[0m \u001b[43m                 \u001b[49m\u001b[43msession_token\u001b[49m\u001b[38;5;241;43m=\u001b[39;49m\u001b[38;5;28;43mself\u001b[39;49m\u001b[38;5;241;43m.\u001b[39;49m\u001b[43ms3cred\u001b[49m\u001b[38;5;241;43m.\u001b[39;49m\u001b[43mtoken\u001b[49m\u001b[38;5;241;43m.\u001b[39;49m\u001b[43mencode\u001b[49m\u001b[43m(\u001b[49m\u001b[43m)\u001b[49m\u001b[43m)\u001b[49m\n",
      "File \u001b[0;32m/opt/conda/lib/python3.12/site-packages/h5py/_hl/files.py:561\u001b[0m, in \u001b[0;36mFile.__init__\u001b[0;34m(self, name, mode, driver, libver, userblock_size, swmr, rdcc_nslots, rdcc_nbytes, rdcc_w0, track_order, fs_strategy, fs_persist, fs_threshold, fs_page_size, page_buf_size, min_meta_keep, min_raw_keep, locking, alignment_threshold, alignment_interval, meta_block_size, **kwds)\u001b[0m\n\u001b[1;32m    558\u001b[0m     fcpl \u001b[38;5;241m=\u001b[39m make_fcpl(track_order\u001b[38;5;241m=\u001b[39mtrack_order, fs_strategy\u001b[38;5;241m=\u001b[39mfs_strategy,\n\u001b[1;32m    559\u001b[0m                      fs_persist\u001b[38;5;241m=\u001b[39mfs_persist, fs_threshold\u001b[38;5;241m=\u001b[39mfs_threshold,\n\u001b[1;32m    560\u001b[0m                      fs_page_size\u001b[38;5;241m=\u001b[39mfs_page_size)\n\u001b[0;32m--> 561\u001b[0m     fid \u001b[38;5;241m=\u001b[39m \u001b[43mmake_fid\u001b[49m\u001b[43m(\u001b[49m\u001b[43mname\u001b[49m\u001b[43m,\u001b[49m\u001b[43m \u001b[49m\u001b[43mmode\u001b[49m\u001b[43m,\u001b[49m\u001b[43m \u001b[49m\u001b[43muserblock_size\u001b[49m\u001b[43m,\u001b[49m\u001b[43m \u001b[49m\u001b[43mfapl\u001b[49m\u001b[43m,\u001b[49m\u001b[43m \u001b[49m\u001b[43mfcpl\u001b[49m\u001b[43m,\u001b[49m\u001b[43m \u001b[49m\u001b[43mswmr\u001b[49m\u001b[38;5;241;43m=\u001b[39;49m\u001b[43mswmr\u001b[49m\u001b[43m)\u001b[49m\n\u001b[1;32m    563\u001b[0m \u001b[38;5;28;01mif\u001b[39;00m \u001b[38;5;28misinstance\u001b[39m(libver, \u001b[38;5;28mtuple\u001b[39m):\n",
      "File \u001b[0;32m/opt/conda/lib/python3.12/site-packages/h5py/_hl/files.py:235\u001b[0m, in \u001b[0;36mmake_fid\u001b[0;34m(name, mode, userblock_size, fapl, fcpl, swmr)\u001b[0m\n\u001b[1;32m    234\u001b[0m         flags \u001b[38;5;241m|\u001b[39m\u001b[38;5;241m=\u001b[39m h5f\u001b[38;5;241m.\u001b[39mACC_SWMR_READ\n\u001b[0;32m--> 235\u001b[0m     fid \u001b[38;5;241m=\u001b[39m \u001b[43mh5f\u001b[49m\u001b[38;5;241;43m.\u001b[39;49m\u001b[43mopen\u001b[49m\u001b[43m(\u001b[49m\u001b[43mname\u001b[49m\u001b[43m,\u001b[49m\u001b[43m \u001b[49m\u001b[43mflags\u001b[49m\u001b[43m,\u001b[49m\u001b[43m \u001b[49m\u001b[43mfapl\u001b[49m\u001b[38;5;241;43m=\u001b[39;49m\u001b[43mfapl\u001b[49m\u001b[43m)\u001b[49m\n\u001b[1;32m    236\u001b[0m \u001b[38;5;28;01melif\u001b[39;00m mode \u001b[38;5;241m==\u001b[39m \u001b[38;5;124m'\u001b[39m\u001b[38;5;124mr+\u001b[39m\u001b[38;5;124m'\u001b[39m:\n",
      "File \u001b[0;32mh5py/_objects.pyx:54\u001b[0m, in \u001b[0;36mh5py._objects.with_phil.wrapper\u001b[0;34m()\u001b[0m\n",
      "File \u001b[0;32mh5py/_objects.pyx:55\u001b[0m, in \u001b[0;36mh5py._objects.with_phil.wrapper\u001b[0;34m()\u001b[0m\n",
      "File \u001b[0;32mh5py/h5f.pyx:102\u001b[0m, in \u001b[0;36mh5py.h5f.open\u001b[0;34m()\u001b[0m\n",
      "\u001b[0;31mOSError\u001b[0m: Unable to synchronously open file (curl cannot perform request)",
      "\nDuring handling of the above exception, another exception occurred:\n",
      "\u001b[0;31mOSError\u001b[0m                                   Traceback (most recent call last)",
      "Cell \u001b[0;32mIn[4], line 2\u001b[0m\n\u001b[1;32m      1\u001b[0m myGCOV \u001b[38;5;241m=\u001b[39m nisarhdf\u001b[38;5;241m.\u001b[39mnisarGCOVHDF()\n\u001b[0;32m----> 2\u001b[0m \u001b[43mmyGCOV\u001b[49m\u001b[38;5;241;43m.\u001b[39;49m\u001b[43mopenHDF\u001b[49m\u001b[43m(\u001b[49m\u001b[43mGCOVFile\u001b[49m\u001b[43m,\u001b[49m\u001b[43m \u001b[49m\u001b[43mreferenceOrbitXML\u001b[49m\u001b[38;5;241;43m=\u001b[39;49m\u001b[38;5;28;43;01mNone\u001b[39;49;00m\u001b[43m,\u001b[49m\u001b[43m \u001b[49m\u001b[43mreferenceOrbit\u001b[49m\u001b[38;5;241;43m=\u001b[39;49m\u001b[38;5;241;43m0\u001b[39;49m\u001b[43m,\u001b[49m\u001b[43m \u001b[49m\u001b[43mframe\u001b[49m\u001b[38;5;241;43m=\u001b[39;49m\u001b[38;5;241;43m0\u001b[39;49m\u001b[43m)\u001b[49m\n",
      "File \u001b[0;32m~/develop/nisarhdf/nisarhdf/nisarBaseHDF.py:482\u001b[0m, in \u001b[0;36mnisarBaseHDF.openHDF\u001b[0;34m(self, hdfFile, referenceOrbitXML, secondaryOrbitXML, referenceOrbit, secondaryOrbit, noLoadData, **keywords)\u001b[0m\n\u001b[1;32m    479\u001b[0m \u001b[38;5;28mprint\u001b[39m(\u001b[38;5;124m'\u001b[39m\u001b[38;5;124mCould not open with page_buf_size, opening for \u001b[39m\u001b[38;5;124m'\u001b[39m\n\u001b[1;32m    480\u001b[0m       \u001b[38;5;124m'\u001b[39m\u001b[38;5;124mnon-optimized access\u001b[39m\u001b[38;5;124m'\u001b[39m)\n\u001b[1;32m    481\u001b[0m \u001b[38;5;28;01mif\u001b[39;00m \u001b[38;5;124m'\u001b[39m\u001b[38;5;124ms3\u001b[39m\u001b[38;5;124m'\u001b[39m \u001b[38;5;129;01min\u001b[39;00m hdfFile:\n\u001b[0;32m--> 482\u001b[0m     \u001b[38;5;28mself\u001b[39m\u001b[38;5;241m.\u001b[39mh5Full \u001b[38;5;241m=\u001b[39m \u001b[38;5;28;43mself\u001b[39;49m\u001b[38;5;241;43m.\u001b[39;49m\u001b[43m_openS3\u001b[49m\u001b[43m(\u001b[49m\u001b[43mhdfFile\u001b[49m\u001b[43m)\u001b[49m\n\u001b[1;32m    483\u001b[0m \u001b[38;5;28;01melse\u001b[39;00m:\n\u001b[1;32m    484\u001b[0m     \u001b[38;5;28mself\u001b[39m\u001b[38;5;241m.\u001b[39mh5Full \u001b[38;5;241m=\u001b[39m h5py\u001b[38;5;241m.\u001b[39mFile(hdfFile, \u001b[38;5;124m'\u001b[39m\u001b[38;5;124mr\u001b[39m\u001b[38;5;124m'\u001b[39m)\n",
      "File \u001b[0;32m~/develop/nisarhdf/nisarhdf/nisarBaseHDF.py:422\u001b[0m, in \u001b[0;36mnisarBaseHDF._openS3\u001b[0;34m(self, s3link, page_buf_size)\u001b[0m\n\u001b[1;32m    420\u001b[0m region \u001b[38;5;241m=\u001b[39m os\u001b[38;5;241m.\u001b[39mgetenv(\u001b[38;5;124m\"\u001b[39m\u001b[38;5;124mAWS_REGION\u001b[39m\u001b[38;5;124m\"\u001b[39m, \u001b[38;5;124m\"\u001b[39m\u001b[38;5;124m<unknown>\u001b[39m\u001b[38;5;124m\"\u001b[39m)\n\u001b[1;32m    421\u001b[0m \u001b[38;5;66;03m# Open the file and return\u001b[39;00m\n\u001b[0;32m--> 422\u001b[0m \u001b[38;5;28;01mreturn\u001b[39;00m \u001b[43mh5py\u001b[49m\u001b[38;5;241;43m.\u001b[39;49m\u001b[43mFile\u001b[49m\u001b[43m(\u001b[49m\u001b[43mname\u001b[49m\u001b[38;5;241;43m=\u001b[39;49m\u001b[43ms3link\u001b[49m\u001b[43m,\u001b[49m\n\u001b[1;32m    423\u001b[0m \u001b[43m                 \u001b[49m\u001b[43mmode\u001b[49m\u001b[38;5;241;43m=\u001b[39;49m\u001b[38;5;124;43m\"\u001b[39;49m\u001b[38;5;124;43mr\u001b[39;49m\u001b[38;5;124;43m\"\u001b[39;49m\u001b[43m,\u001b[49m\n\u001b[1;32m    424\u001b[0m \u001b[43m                 \u001b[49m\u001b[43mdriver\u001b[49m\u001b[38;5;241;43m=\u001b[39;49m\u001b[38;5;124;43m\"\u001b[39;49m\u001b[38;5;124;43mros3\u001b[39;49m\u001b[38;5;124;43m\"\u001b[39;49m\u001b[43m,\u001b[49m\n\u001b[1;32m    425\u001b[0m \u001b[43m                 \u001b[49m\u001b[43mpage_buf_size\u001b[49m\u001b[38;5;241;43m=\u001b[39;49m\u001b[43mpage_buf_size\u001b[49m\u001b[43m,\u001b[49m\n\u001b[1;32m    426\u001b[0m \u001b[43m                 \u001b[49m\u001b[43maws_region\u001b[49m\u001b[38;5;241;43m=\u001b[39;49m\u001b[43mregion\u001b[49m\u001b[38;5;241;43m.\u001b[39;49m\u001b[43mencode\u001b[49m\u001b[43m(\u001b[49m\u001b[43m)\u001b[49m\u001b[43m,\u001b[49m\n\u001b[1;32m    427\u001b[0m \u001b[43m                 \u001b[49m\u001b[43msecret_id\u001b[49m\u001b[38;5;241;43m=\u001b[39;49m\u001b[38;5;28;43mself\u001b[39;49m\u001b[38;5;241;43m.\u001b[39;49m\u001b[43ms3cred\u001b[49m\u001b[38;5;241;43m.\u001b[39;49m\u001b[43maccess_key\u001b[49m\u001b[38;5;241;43m.\u001b[39;49m\u001b[43mencode\u001b[49m\u001b[43m(\u001b[49m\u001b[43m)\u001b[49m\u001b[43m,\u001b[49m\n\u001b[1;32m    428\u001b[0m \u001b[43m                 \u001b[49m\u001b[43msecret_key\u001b[49m\u001b[38;5;241;43m=\u001b[39;49m\u001b[38;5;28;43mself\u001b[39;49m\u001b[38;5;241;43m.\u001b[39;49m\u001b[43ms3cred\u001b[49m\u001b[38;5;241;43m.\u001b[39;49m\u001b[43msecret_key\u001b[49m\u001b[38;5;241;43m.\u001b[39;49m\u001b[43mencode\u001b[49m\u001b[43m(\u001b[49m\u001b[43m)\u001b[49m\u001b[43m,\u001b[49m\n\u001b[1;32m    429\u001b[0m \u001b[43m                 \u001b[49m\u001b[43msession_token\u001b[49m\u001b[38;5;241;43m=\u001b[39;49m\u001b[38;5;28;43mself\u001b[39;49m\u001b[38;5;241;43m.\u001b[39;49m\u001b[43ms3cred\u001b[49m\u001b[38;5;241;43m.\u001b[39;49m\u001b[43mtoken\u001b[49m\u001b[38;5;241;43m.\u001b[39;49m\u001b[43mencode\u001b[49m\u001b[43m(\u001b[49m\u001b[43m)\u001b[49m\u001b[43m)\u001b[49m\n",
      "File \u001b[0;32m/opt/conda/lib/python3.12/site-packages/h5py/_hl/files.py:561\u001b[0m, in \u001b[0;36mFile.__init__\u001b[0;34m(self, name, mode, driver, libver, userblock_size, swmr, rdcc_nslots, rdcc_nbytes, rdcc_w0, track_order, fs_strategy, fs_persist, fs_threshold, fs_page_size, page_buf_size, min_meta_keep, min_raw_keep, locking, alignment_threshold, alignment_interval, meta_block_size, **kwds)\u001b[0m\n\u001b[1;32m    552\u001b[0m     fapl \u001b[38;5;241m=\u001b[39m make_fapl(driver, libver, rdcc_nslots, rdcc_nbytes, rdcc_w0,\n\u001b[1;32m    553\u001b[0m                      locking, page_buf_size, min_meta_keep, min_raw_keep,\n\u001b[1;32m    554\u001b[0m                      alignment_threshold\u001b[38;5;241m=\u001b[39malignment_threshold,\n\u001b[1;32m    555\u001b[0m                      alignment_interval\u001b[38;5;241m=\u001b[39malignment_interval,\n\u001b[1;32m    556\u001b[0m                      meta_block_size\u001b[38;5;241m=\u001b[39mmeta_block_size,\n\u001b[1;32m    557\u001b[0m                      \u001b[38;5;241m*\u001b[39m\u001b[38;5;241m*\u001b[39mkwds)\n\u001b[1;32m    558\u001b[0m     fcpl \u001b[38;5;241m=\u001b[39m make_fcpl(track_order\u001b[38;5;241m=\u001b[39mtrack_order, fs_strategy\u001b[38;5;241m=\u001b[39mfs_strategy,\n\u001b[1;32m    559\u001b[0m                      fs_persist\u001b[38;5;241m=\u001b[39mfs_persist, fs_threshold\u001b[38;5;241m=\u001b[39mfs_threshold,\n\u001b[1;32m    560\u001b[0m                      fs_page_size\u001b[38;5;241m=\u001b[39mfs_page_size)\n\u001b[0;32m--> 561\u001b[0m     fid \u001b[38;5;241m=\u001b[39m \u001b[43mmake_fid\u001b[49m\u001b[43m(\u001b[49m\u001b[43mname\u001b[49m\u001b[43m,\u001b[49m\u001b[43m \u001b[49m\u001b[43mmode\u001b[49m\u001b[43m,\u001b[49m\u001b[43m \u001b[49m\u001b[43muserblock_size\u001b[49m\u001b[43m,\u001b[49m\u001b[43m \u001b[49m\u001b[43mfapl\u001b[49m\u001b[43m,\u001b[49m\u001b[43m \u001b[49m\u001b[43mfcpl\u001b[49m\u001b[43m,\u001b[49m\u001b[43m \u001b[49m\u001b[43mswmr\u001b[49m\u001b[38;5;241;43m=\u001b[39;49m\u001b[43mswmr\u001b[49m\u001b[43m)\u001b[49m\n\u001b[1;32m    563\u001b[0m \u001b[38;5;28;01mif\u001b[39;00m \u001b[38;5;28misinstance\u001b[39m(libver, \u001b[38;5;28mtuple\u001b[39m):\n\u001b[1;32m    564\u001b[0m     \u001b[38;5;28mself\u001b[39m\u001b[38;5;241m.\u001b[39m_libver \u001b[38;5;241m=\u001b[39m libver\n",
      "File \u001b[0;32m/opt/conda/lib/python3.12/site-packages/h5py/_hl/files.py:235\u001b[0m, in \u001b[0;36mmake_fid\u001b[0;34m(name, mode, userblock_size, fapl, fcpl, swmr)\u001b[0m\n\u001b[1;32m    233\u001b[0m     \u001b[38;5;28;01mif\u001b[39;00m swmr \u001b[38;5;129;01mand\u001b[39;00m swmr_support:\n\u001b[1;32m    234\u001b[0m         flags \u001b[38;5;241m|\u001b[39m\u001b[38;5;241m=\u001b[39m h5f\u001b[38;5;241m.\u001b[39mACC_SWMR_READ\n\u001b[0;32m--> 235\u001b[0m     fid \u001b[38;5;241m=\u001b[39m \u001b[43mh5f\u001b[49m\u001b[38;5;241;43m.\u001b[39;49m\u001b[43mopen\u001b[49m\u001b[43m(\u001b[49m\u001b[43mname\u001b[49m\u001b[43m,\u001b[49m\u001b[43m \u001b[49m\u001b[43mflags\u001b[49m\u001b[43m,\u001b[49m\u001b[43m \u001b[49m\u001b[43mfapl\u001b[49m\u001b[38;5;241;43m=\u001b[39;49m\u001b[43mfapl\u001b[49m\u001b[43m)\u001b[49m\n\u001b[1;32m    236\u001b[0m \u001b[38;5;28;01melif\u001b[39;00m mode \u001b[38;5;241m==\u001b[39m \u001b[38;5;124m'\u001b[39m\u001b[38;5;124mr+\u001b[39m\u001b[38;5;124m'\u001b[39m:\n\u001b[1;32m    237\u001b[0m     fid \u001b[38;5;241m=\u001b[39m h5f\u001b[38;5;241m.\u001b[39mopen(name, h5f\u001b[38;5;241m.\u001b[39mACC_RDWR, fapl\u001b[38;5;241m=\u001b[39mfapl)\n",
      "File \u001b[0;32mh5py/_objects.pyx:54\u001b[0m, in \u001b[0;36mh5py._objects.with_phil.wrapper\u001b[0;34m()\u001b[0m\n",
      "File \u001b[0;32mh5py/_objects.pyx:55\u001b[0m, in \u001b[0;36mh5py._objects.with_phil.wrapper\u001b[0;34m()\u001b[0m\n",
      "File \u001b[0;32mh5py/h5f.pyx:102\u001b[0m, in \u001b[0;36mh5py.h5f.open\u001b[0;34m()\u001b[0m\n",
      "\u001b[0;31mOSError\u001b[0m: Unable to synchronously open file (curl cannot perform request)"
     ]
    }
   ],
   "source": [
    "myGCOV = nisarhdf.nisarGCOVHDF()\n",
    "myGCOV.openHDF(GCOVFile, referenceOrbitXML=None, referenceOrbit=0, frame=0)"
   ]
  },
  {
   "cell_type": "markdown",
   "id": "526cffc2-b965-42e5-a443-cf4f74587f84",
   "metadata": {},
   "source": [
    "## GCOV Parameters"
   ]
  },
  {
   "cell_type": "markdown",
   "id": "6afcc3a1-1f61-4df8-bf6b-2b42b77edf7c",
   "metadata": {},
   "source": [
    "A summary of some of the more important parameters for the **GCOV** products can be obtained by."
   ]
  },
  {
   "cell_type": "code",
   "execution_count": null,
   "id": "5d7c405b-47bd-4b96-92e8-b5d0c1da0b15",
   "metadata": {},
   "outputs": [],
   "source": [
    "myGCOV.printParams()"
   ]
  },
  {
   "cell_type": "markdown",
   "id": "b917c9e5-c748-426f-b50f-9812879753e0",
   "metadata": {},
   "source": [
    "## Display Data"
   ]
  },
  {
   "cell_type": "markdown",
   "id": "9ba08bd0-b5b9-47df-9931-47c1b2ced731",
   "metadata": {},
   "source": [
    "The following plots the fields associated with the **GCOV** product."
   ]
  },
  {
   "cell_type": "code",
   "execution_count": null,
   "id": "612b17ec-00ae-4113-aa99-40f42c8bd072",
   "metadata": {},
   "outputs": [],
   "source": [
    "fields = myGCOV.dataFields\n",
    "fig, axes = plt.subplots(1, len(fields), figsize=(22, 4))\n",
    "for field, ax in zip(fields, axes.flatten()):\n",
    "    data = getattr(myGCOV, field)\n",
    "    print(field)\n",
    "    vmin, vmax = nisarhdf.autoScaleRange(data, 95)\n",
    "    if field not in ['mask']:\n",
    "        h = ax.imshow(data, vmin=vmin, vmax=vmax, origin='upper', cmap='gray')\n",
    "        nisarhdf.colorBar(h, ax, field, 'right', '5%',.05, 12, 12, extend='both')\n",
    "    else:\n",
    "        h = ax.imshow(data,  origin='upper')\n",
    "        nisarhdf.colorBar(h, ax, field,'right', '5%',.05, 12, 12, extend='neither')\n",
    "    ax.set_title(field)\n",
    "    ax.axis('off')"
   ]
  },
  {
   "cell_type": "markdown",
   "id": "41022b8f-9062-476e-9a3f-da7c36da9bef",
   "metadata": {},
   "source": [
    "## Metadata Interpolation"
   ]
  },
  {
   "cell_type": "markdown",
   "id": "23415bfa-8721-4a36-afaa-fa20d82db670",
   "metadata": {},
   "source": [
    "Much of the spatially dependent information (e.g., incidenceAngle) is stored as metadata cubes (see nisar documenation). These cubes can be interpolatated to obtain the x, y, and elevation dependent results. Here are examples of how to extract these data for the offset grids.\n",
    "\n",
    "For each field, there is an interpolator method (e.g., `myGCOV.incidenceAngleCube(x, y, z)`). The examples below demonstrate how to interpolate the data cubes to the coordinates of the GCOV product."
   ]
  },
  {
   "cell_type": "markdown",
   "id": "2ad36913-11d8-436f-b97e-3823225bd936",
   "metadata": {},
   "source": [
    "### Setup Grid for the Offsets"
   ]
  },
  {
   "cell_type": "markdown",
   "id": "e43fbd99-4410-41d6-8899-7924b162c320",
   "metadata": {},
   "source": [
    "In this step a range/Dopper grid corresponding to the offset maps is created. Note in this example we assume zero elevation, but the values can easily be substituted from a DEM."
   ]
  },
  {
   "cell_type": "code",
   "execution_count": null,
   "id": "393590ff-b523-4f76-8da7-58a1eb9fdce7",
   "metadata": {},
   "outputs": [],
   "source": [
    "myGCOV.setupXYGrid()\n",
    "z = np.zeros(myGCOV.xGrid.shape)\n",
    "fig, axes = plt.subplots(1, 2, figsize=(11, 5))\n",
    "axes[0].imshow(myGCOV.xGrid, extent=myGCOV.extentUL)\n",
    "axes[1].imshow(myGCOV.yGrid, extent=myGCOV.extentUL)\n",
    "for ax, field in zip(axes, [f'$X_{{{myGCOV.epsg}}}$ Grid',f'$Y_{{{myGCOV.epsg}}}$ Grid']):\n",
    "    ax.set_title(field)\n",
    "    ax.locator_params(axis='x', nbins=4)\n",
    "    ax.set_title(field)\n",
    "    ax.set_xlabel(f'$X_{{{myGCOV.epsg}}}$ (m)')\n",
    "    ax.set_ylabel(f'$Y_{{{myGCOV.epsg}}}$ (m)')\n",
    "fig.tight_layout()"
   ]
  },
  {
   "cell_type": "markdown",
   "id": "5028dc3c-ad9d-4b6d-afb0-9c4931947ee6",
   "metadata": {},
   "source": [
    "### Incidence and Elevation Angles"
   ]
  },
  {
   "cell_type": "markdown",
   "id": "037b81bf-1a30-44c2-a830-f8734a6b5c94",
   "metadata": {},
   "source": [
    "The incidence and elevation angles can be computed as follows:"
   ]
  },
  {
   "cell_type": "code",
   "execution_count": null,
   "id": "ccbc8a35-8afe-4ce8-86eb-baad3ee15883",
   "metadata": {},
   "outputs": [],
   "source": [
    "incidenceAngle = myGCOV.incidenceAngleCube(myGCOV.xGrid, myGCOV.yGrid, z, maskNoData=myGCOV.noDataLocations)\n",
    "elevationAngle = myGCOV.elevationAngleCube(myGCOV.xGrid, myGCOV.yGrid, z, maskNoData=myGCOV.noDataLocations)\n",
    "fig, axes = plt.subplots(1, 2)\n",
    "for ax, var, title in zip(axes.flatten(), [incidenceAngle, elevationAngle], ['incidenceAngle', 'elevationAngle']):\n",
    "    ax.imshow(var, origin='upper')\n",
    "    ax.set_title(title)\n",
    "    print(f'{title} min/max: {np.nanmin(var):.3f} {np.nanmax(var):.3f}')"
   ]
  },
  {
   "cell_type": "markdown",
   "id": "0f9f04dc-2e41-4ff1-869c-ffa0a5d9c608",
   "metadata": {},
   "source": [
    "### Ground Track Velocity"
   ]
  },
  {
   "cell_type": "markdown",
   "id": "90de1a0b-da9d-41ea-b6f4-08240a85b58f",
   "metadata": {},
   "source": [
    "The ground track velocity is found by:"
   ]
  },
  {
   "cell_type": "code",
   "execution_count": null,
   "id": "40be575b-ad6a-4ae7-af19-665e508d7400",
   "metadata": {},
   "outputs": [],
   "source": [
    "groundTrackVelocity=  myGCOV.groundTrackVelocityCube(myGCOV.xGrid, myGCOV.yGrid, z, maskNoData=myGCOV.noDataLocations)\n",
    "fig, ax = plt.subplots(1,1)\n",
    "ax.imshow(groundTrackVelocity, origin='upper')\n",
    "ax.set_title('groundTrackVelocity')\n",
    "print(f'groundTrackVelocity min/max: {np.nanmin(groundTrackVelocity):.3f} {np.nanmax(groundTrackVelocity):.3f}')"
   ]
  },
  {
   "cell_type": "markdown",
   "id": "ef7009e7-e733-4f8f-b271-8007e892ce7d",
   "metadata": {},
   "source": [
    "### Range-Doppler Coordinate"
   ]
  },
  {
   "cell_type": "markdown",
   "id": "76527a6f-388e-4bf9-a72d-b5a38b868ceb",
   "metadata": {},
   "source": [
    "The `slantRange` and `zeroDopplerTime` coordinate at corresponding to the `x` and `y` can can be determined as:"
   ]
  },
  {
   "cell_type": "code",
   "execution_count": null,
   "id": "43aafde0-a846-4cca-b68b-2519eb21bcb7",
   "metadata": {},
   "outputs": [],
   "source": [
    "slantRange, zeroDopplerTime =  myGCOV.rangeDopplerCube(myGCOV.xGrid, myGCOV.yGrid, z, image='reference', maskNoData=myGCOV.noDataLocations)\n",
    "fig, axes = plt.subplots(1, 2)\n",
    "for ax, var, title in zip(axes.flatten(), [slantRange, zeroDopplerTime], ['slantRange', 'zeroDopplerTime']):\n",
    "    ax.imshow(var, origin='upper')\n",
    "    ax.set_title(title)\n",
    "    print(f'{title} min/max: {np.nanmin(var):.3f} {np.nanmax(var):.3f}')"
   ]
  },
  {
   "cell_type": "markdown",
   "id": "8cdc2cd6-b423-4e85-85b2-8b596ef1b611",
   "metadata": {},
   "source": [
    "### Along Track Unit Vector and LOS Unit Vector"
   ]
  },
  {
   "cell_type": "markdown",
   "id": "3e012962-68fd-4f35-aa8f-2dc9ebd48fc1",
   "metadata": {},
   "source": [
    "The x and y components of the line-of-sight and along-track unit vector can be determined on the offset grid by:"
   ]
  },
  {
   "cell_type": "code",
   "execution_count": null,
   "id": "302e2b1b-22d7-4ec0-a390-479cd15138c8",
   "metadata": {},
   "outputs": [],
   "source": [
    "ATx, ATy =  myGCOV.alongTrackUnitVectorCube(myGCOV.xGrid, myGCOV.yGrid, z, maskNoData=myGCOV.noDataLocations)\n",
    "LOSx, LOSy=  myGCOV.losUnitVectorCube(myGCOV.xGrid, myGCOV.yGrid, z, maskNoData=myGCOV.noDataLocations)\n",
    "#\n",
    "fig, axes = plt.subplots(1, 4, figsize=(15,5))\n",
    "for ax, var, title in zip(axes.flatten(), [ATx, ATy, LOSx, LOSy], ['Along Track Vel. X', 'Along Track Vel. Y', 'LOS X', 'LOS Y']):\n",
    "    ax.imshow(var, origin='upper')\n",
    "    ax.set_title(title)"
   ]
  },
  {
   "cell_type": "markdown",
   "id": "f24ef45b-1362-4277-b4d2-b77f85c24879",
   "metadata": {},
   "source": [
    "## Other Meta Data"
   ]
  },
  {
   "cell_type": "markdown",
   "id": "d2203ab3-9db8-4a0e-9a5d-646c347de7a5",
   "metadata": {},
   "source": [
    "Most of the essential meta data has been parsed and demonstrated in the examples above. Other quantities can be extracted by keyword from the h5 files. For example, the **centerFrequency** can be extracted as:"
   ]
  },
  {
   "cell_type": "code",
   "execution_count": null,
   "id": "38672e48-5dac-49c4-abef-80af1682db62",
   "metadata": {},
   "outputs": [],
   "source": [
    "np.array(myGCOV.h5['GCOV']['grids']['frequencyA']['projection']).item()"
   ]
  },
  {
   "cell_type": "markdown",
   "id": "28b6eebf-55bb-4acd-9110-fa12fdde2b67",
   "metadata": {},
   "source": [
    "## Save Data to Binary or Tiff Files."
   ]
  },
  {
   "cell_type": "markdown",
   "id": "d9af8315-f0c9-4bec-a3e8-1a5ae194eac8",
   "metadata": {},
   "source": [
    "The data from the hdf can be save as individual tiffs, bound together by a single vrt file. The default is to write all of the bands e.,g `'VVVV'`, `'mask'`, `'numberOfLooks'`, and `'rtcGammaToSigmaFactor'` for a **GCOV** product, which is accomplished as follows."
   ]
  },
  {
   "cell_type": "markdown",
   "id": "cadb7f9d-18c5-49b8-a94d-ef44732dd87b",
   "metadata": {},
   "source": [
    "In the previous example, the results were save as tiffs. To save as binary files, run with `tiff=False` for a more limited set of bands:"
   ]
  },
  {
   "cell_type": "code",
   "execution_count": null,
   "id": "981f723d-13c5-4504-97c4-a0b096fab25f",
   "metadata": {},
   "outputs": [],
   "source": [
    "myGCOV.writeData('output/GCOVbinary', bands=[myGCOV.dataFields[0], 'rtcGammaToSigmaFactor'], tiff=False)\n",
    "!ls output/GCOVbinary*"
   ]
  },
  {
   "cell_type": "markdown",
   "id": "3f7e6315-8829-4f98-aeb0-d0017c27d5ed",
   "metadata": {},
   "source": [
    "The data can be read back in as an `rioxarray`  using `nisarhdf.readVrtAsXarray`, which saves each band as a named data variable. The results can be displayed using the `xarray` version of `imshow`."
   ]
  },
  {
   "cell_type": "code",
   "execution_count": null,
   "id": "e931262b-a4d2-48de-846b-ef28da095622",
   "metadata": {},
   "outputs": [],
   "source": [
    "GCOVbinary = nisarhdf.readVrtAsXarray('output/GCOVbinary.vrt', mask_and_scale=True)\n",
    "#extent = [np.min(GCOVbinary.x), np.max(GCOVbinary.x), np.min(GCOVbinary.y), np.max(GCOVbinary.y)\n",
    "# Get the band names\n",
    "fig, axes = plt.subplots(1, 2, figsize=(15, 5))\n",
    "for var, ax in zip(GCOVbinary.data_vars, axes.flatten()):\n",
    "    vmin, vmax = nisarhdf.autoScaleRange(GCOVbinary[var].data, 95)\n",
    "    ax.imshow(GCOVbinary[var].data, cmap='gray', vmin=vmin, vmax=vmax)\n",
    "GCOVbinary"
   ]
  },
  {
   "cell_type": "markdown",
   "id": "32c64598-32d5-4ac5-b064-9cc3b535607e",
   "metadata": {},
   "source": [
    "## Save Gridded Data Cubes"
   ]
  },
  {
   "cell_type": "markdown",
   "id": "60be25a1-05e7-4edc-9d71-1c0ea421b551",
   "metadata": {},
   "source": [
    "The gridded data cubes can also be saved as either flat binary or as cloud-optimized geotiff (COG) files. In this case, use `save=True` to save the result internally, and then use `writeData` to save data the same way the other bands are saved. In the example below, the data are saved as COGs."
   ]
  },
  {
   "cell_type": "code",
   "execution_count": null,
   "id": "485af4c4-b075-4afd-8286-023a24995992",
   "metadata": {},
   "outputs": [],
   "source": [
    "myGCOV.incidenceAngleCube(myGCOV.xGrid, myGCOV.yGrid, z, maskNoData=myGCOV.noDataLocations, save=True);\n",
    "myGCOV.elevationAngleCube(myGCOV.xGrid, myGCOV.yGrid, z, maskNoData=myGCOV.noDataLocations, save=True);\n",
    "myGCOV.writeData('output/GCOVangles',bands=['incidenceAngle', 'elevationAngle'], tiff=True) # ', 'elevationAngle'"
   ]
  },
  {
   "cell_type": "code",
   "execution_count": null,
   "id": "69efc713-3d5b-4b66-afc7-0a4dd6315ad7",
   "metadata": {},
   "outputs": [],
   "source": [
    "GCOVTiff = nisarhdf.readVrtAsXarray('output/GCOVangles.vrt', mask_and_scale=True)\n",
    "#extent = [np.min(GCOVbinary.x), np.max(GCOVbinary.x), np.min(GCOVbinary.y), np.max(GCOVbinary.y)\n",
    "# Get the band names\n",
    "fig, axes = plt.subplots(1, 2, figsize=(15, 5))\n",
    "GCOVTiff.incidenceAngle.plot.imshow(ax=axes[0])\n",
    "GCOVTiff.elevationAngle.plot.imshow(ax=axes[1], cmap='RdBu_r')\n",
    "GCOVTiff"
   ]
  },
  {
   "cell_type": "markdown",
   "id": "042e9923-ff49-4f77-96eb-62dbf5a92222",
   "metadata": {},
   "source": [
    "# Anything below here is debug code that can be ignored"
   ]
  },
  {
   "cell_type": "code",
   "execution_count": 15,
   "id": "0cb3a115-00ef-4b76-a930-ddc51d1c1e0e",
   "metadata": {},
   "outputs": [],
   "source": [
    "!aws s3 ls s3://nisar-st-data-ondemand/ALOS-2-data/NISAR/cryo_sample_products_092024/frame_280/insar_products/"
   ]
  },
  {
   "cell_type": "code",
   "execution_count": null,
   "id": "bfd72033-1c2e-454c-8b8a-e981f3db237f",
   "metadata": {},
   "outputs": [],
   "source": []
  }
 ],
 "metadata": {
  "kernelspec": {
   "display_name": "base",
   "language": "python",
   "name": "base"
  },
  "language_info": {
   "codemirror_mode": {
    "name": "ipython",
    "version": 3
   },
   "file_extension": ".py",
   "mimetype": "text/x-python",
   "name": "python",
   "nbconvert_exporter": "python",
   "pygments_lexer": "ipython3",
   "version": "3.12.9"
  }
 },
 "nbformat": 4,
 "nbformat_minor": 5
}
