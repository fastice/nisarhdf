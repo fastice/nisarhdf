{
 "cells": [
  {
   "cell_type": "markdown",
   "id": "4193df4a-d02f-425c-a4cb-8d76481c2822",
   "metadata": {},
   "source": [
    "# Tutorial Notebook for nisarhdf.nisarRSLCHDF\n",
    "---"
   ]
  },
  {
   "cell_type": "markdown",
   "id": "69ffdf44-7fe3-4e24-8b4f-a2f69618c7c5",
   "metadata": {},
   "source": [
    "This notebook demonstrates the functionality of `nisarRSLCHDF`, which is at tool for reading NISAR **SLC** products.  Some of its functionality is specifically developed for the Greenland Mapping Project (GrIMP) workflows, but it may also be of general use for working with these products. If nothing else, the source code provides examples of how to unpack these projects.\n",
    "\n",
    "Note, this class largely serves to unpack and reformat RSLC data. As such, at present, there is no support for data cubes. The **RSLC** products can be large, so it may not work well on machines with limited memory."
   ]
  },
  {
   "cell_type": "markdown",
   "id": "26b11760-8e44-49d4-8574-c9a7fb919fa2",
   "metadata": {},
   "source": [
    "## Installation"
   ]
  },
  {
   "cell_type": "markdown",
   "id": "61b3aece-3a54-4800-b2e2-92321da963d0",
   "metadata": {},
   "source": [
    "The easiest way to ensure the code works is to create a custom environment using the *environment.yml* file included in this *nisarhdf* repository. To do so execute the following,\n",
    "\n",
    "`conda env create -f environment.yml`\n",
    "\n",
    "Then setup the kernel for the Jupyter notebooks with the command:\n",
    "\n",
    "`python -m ipykernel install --user --name=nisarcryo`\n",
    "\n",
    "Then activate the environment:\n",
    "\n",
    "`conda activate nisarcryo`\n",
    "\n",
    "Finally, start Jupyter and open the notebooks.\n",
    "\n",
    "**Even if you want to work with your existing environment, the *environment.yml* file demonstrates which packages must be installed if they are not already present.**\n"
   ]
  },
  {
   "cell_type": "markdown",
   "id": "00da1df1-c22f-46ac-a1cb-98b429da3c2f",
   "metadata": {},
   "source": [
    "## Python Imports"
   ]
  },
  {
   "cell_type": "code",
   "execution_count": 1,
   "id": "b6de4d07-f1e9-425c-9189-2dedaf0f2880",
   "metadata": {},
   "outputs": [],
   "source": [
    "%load_ext autoreload\n",
    "%autoreload 2\n",
    "import nisarhdf\n",
    "import matplotlib.pyplot as plt\n",
    "import numpy as np\n",
    "from mpl_toolkits.axes_grid1 import make_axes_locatable\n",
    "import rioxarray"
   ]
  },
  {
   "cell_type": "markdown",
   "id": "4b367804-ec39-4c1b-8747-8e28c60002f0",
   "metadata": {},
   "source": [
    "## Open the HDF"
   ]
  },
  {
   "cell_type": "markdown",
   "id": "6a121b9b-afa5-40e6-bb4e-f678fd29362c",
   "metadata": {},
   "source": [
    "Edit the path below to point to the ROFF product you wish to work with."
   ]
  },
  {
   "cell_type": "code",
   "execution_count": 2,
   "id": "5fb6b8f1-82e8-4c84-a246-f8573414ea74",
   "metadata": {},
   "outputs": [],
   "source": [
    "RSLCFile = '/Volumes/insar1/ian/NISAR/strips/frame_280/rslc_products/rslc_ALOS2496725280-230804-008.h5'"
   ]
  },
  {
   "cell_type": "markdown",
   "id": "f018659e-33fc-4730-9061-6fa2a3b55d0e",
   "metadata": {},
   "source": [
    "Create an instance and open the hdf as shown below. For normal products, you shouldn't have to specify the orbit, but while the orbit fields are present in the example file, they are not populated. When you open the hdf, you can specify the precise orbit XMLs if desired, which are release a few weeks after the MOI orbits used in the processing. Note the **RSLC** files are large, so use `noLoadData=True` to just load the meta data."
   ]
  },
  {
   "cell_type": "code",
   "execution_count": 3,
   "id": "4e52594d-aeab-4ec3-a4a0-c9b0bd914484",
   "metadata": {},
   "outputs": [
    {
     "name": "stdout",
     "output_type": "stream",
     "text": [
      "Could not open with page_buf_size, opening for non-optimized access\n",
      "RSLC zeroDopplerStartTime\n",
      "[660125.36827613]\n"
     ]
    }
   ],
   "source": [
    "myRSLC = nisarhdf.nisarRSLCHDF()\n",
    "myRSLC.openHDF(RSLCFile, referenceOrbitXML=None, referenceOrbit=49672, frame=5280, noLoadData=False)"
   ]
  },
  {
   "cell_type": "markdown",
   "id": "9955b5e0-b6e4-468e-8abc-c304da7703db",
   "metadata": {},
   "source": [
    "## RSLC Parameters"
   ]
  },
  {
   "cell_type": "markdown",
   "id": "40a869eb-827d-468f-8167-60c757d6b3fe",
   "metadata": {},
   "source": [
    "A summary of some of the more important parameters for the **RUNW** products can be obtained by."
   ]
  },
  {
   "cell_type": "code",
   "execution_count": 8,
   "id": "60b76e4c-8747-4fdf-a8de-e4485b13291b",
   "metadata": {},
   "outputs": [
    {
     "name": "stdout",
     "output_type": "stream",
     "text": [
      "RSLC.referenceOrbit = 49672 \n",
      "RSLC.frame = 5280 \n",
      "RSLC.datetime = 2023-08-04 14:57:47.166045 \n",
      "RSLC.referenceGranule = None\n",
      "RSLC.SLCNearRange = 814637.0 \n",
      "RSLC.SLCFarRange = 852284.282920905 \n",
      "RSLC.SLCFirstZeroDopplerTime = 53867.166045 \n",
      "RSLC.SLCLastZeroDopplerTime = 53877.165933569675 \n",
      "RSLC.LookDirection = right \n",
      "RSLC.PassType = descending \n",
      "RSLC.Wavelength = None\n",
      "RSLC.PRF = 3051.234 \n",
      "RSLC.epsg = None \n",
      "RSLC.SLCRangeSize = 26320 \n",
      "RSLC.SLCAzimuthSize = 30513 \n",
      "RSLC.SLCRangePixelSize = 1.4304222394811763 \n",
      "RSLC.SLCAzimuthPixelSize = 2.2716394524093184 \n",
      "RSLC.SLCZeroDopplerTimeSpacing = 0.0003277362535944474 \n",
      "RSLC.SLCNearRange = 814637.0 \n",
      "RSLC.SLCFirstZeroDopplerTime = 53867.166045 \n",
      "RSLC.SLCIncidenceCenter = None\n",
      "\n",
      "Data Fields\n",
      "RSLC.HH\n"
     ]
    }
   ],
   "source": [
    "myRSLC.printParams()"
   ]
  },
  {
   "cell_type": "markdown",
   "id": "f225556b-96d1-4a43-bd23-9960e460c461",
   "metadata": {},
   "source": [
    "## Save RSLC to Binary File"
   ]
  },
  {
   "cell_type": "markdown",
   "id": "1c20db0b-eb52-47f2-aa9c-f27a52fc45b1",
   "metadata": {},
   "source": [
    "The RSLC data can be dumped to a float binary (`np.complex64`) file with the following call:"
   ]
  },
  {
   "cell_type": "code",
   "execution_count": 18,
   "id": "053fcabb-c20f-4d42-ae63-30d38487fec0",
   "metadata": {},
   "outputs": [
    {
     "name": "stdout",
     "output_type": "stream",
     "text": [
      "NumberOfStateVectors\n",
      "TimeOfFirstStateVector\n",
      "StateVectorInterval\n",
      "SV_Pos_1\n",
      "SV_Vel_1\n",
      "SV_Pos_2\n",
      "SV_Vel_2\n",
      "SV_Pos_3\n",
      "SV_Vel_3\n",
      "SV_Pos_4\n",
      "SV_Vel_4\n",
      "SV_Pos_5\n",
      "SV_Vel_5\n",
      "SV_Pos_6\n",
      "SV_Vel_6\n",
      "SV_Pos_7\n",
      "SV_Vel_7\n",
      "SV_Pos_8\n",
      "SV_Vel_8\n",
      "SV_Pos_9\n",
      "SV_Vel_9\n",
      "SV_Pos_10\n",
      "SV_Vel_10\n",
      "SV_Pos_11\n",
      "SV_Vel_11\n",
      "SV_Pos_12\n",
      "SV_Vel_12\n",
      "SV_Pos_13\n",
      "SV_Vel_13\n",
      "SV_Pos_14\n",
      "SV_Vel_14\n",
      "SV_Pos_15\n",
      "SV_Vel_15\n",
      "SV_Pos_16\n",
      "SV_Vel_16\n",
      "SV_Pos_17\n",
      "SV_Vel_17\n",
      "SV_Pos_18\n",
      "SV_Vel_18\n",
      "SV_Pos_19\n",
      "SV_Vel_19\n",
      "SV_Pos_20\n",
      "SV_Vel_20\n",
      "SV_Pos_21\n",
      "SV_Vel_21\n",
      "SV_Pos_22\n",
      "SV_Vel_22\n"
     ]
    }
   ],
   "source": [
    "myRSLC.writeData(f'output/RSLC.{myRSLC.referenceOrbit}_{myRSLC.frame}', bands=['HH'], tiff=False)"
   ]
  },
  {
   "cell_type": "code",
   "execution_count": 17,
   "id": "85ac1f47-7f46-464e-94e4-34017d31f584",
   "metadata": {},
   "outputs": [
    {
     "name": "stdout",
     "output_type": "stream",
     "text": [
      "NumberOfStateVectors\n",
      "TimeOfFirstStateVector\n",
      "StateVectorInterval\n",
      "SV_Pos_1\n",
      "SV_Vel_1\n",
      "SV_Pos_2\n",
      "SV_Vel_2\n",
      "SV_Pos_3\n",
      "SV_Vel_3\n",
      "SV_Pos_4\n",
      "SV_Vel_4\n",
      "SV_Pos_5\n",
      "SV_Vel_5\n",
      "SV_Pos_6\n",
      "SV_Vel_6\n",
      "SV_Pos_7\n",
      "SV_Vel_7\n",
      "SV_Pos_8\n",
      "SV_Vel_8\n",
      "SV_Pos_9\n",
      "SV_Vel_9\n",
      "SV_Pos_10\n",
      "SV_Vel_10\n",
      "SV_Pos_11\n",
      "SV_Vel_11\n",
      "SV_Pos_12\n",
      "SV_Vel_12\n",
      "SV_Pos_13\n",
      "SV_Vel_13\n",
      "SV_Pos_14\n",
      "SV_Vel_14\n",
      "SV_Pos_15\n",
      "SV_Vel_15\n",
      "SV_Pos_16\n",
      "SV_Vel_16\n",
      "SV_Pos_17\n",
      "SV_Vel_17\n",
      "SV_Pos_18\n",
      "SV_Vel_18\n",
      "SV_Pos_19\n",
      "SV_Vel_19\n",
      "SV_Pos_20\n",
      "SV_Vel_20\n",
      "SV_Pos_21\n",
      "SV_Vel_21\n",
      "SV_Pos_22\n",
      "SV_Vel_22\n"
     ]
    },
    {
     "data": {
      "text/plain": [
       "{'referenceOrbit': 49672,\n",
       " 'frame': 5280,\n",
       " 'datetime': datetime.datetime(2023, 8, 4, 14, 57, 47, 166045),\n",
       " 'SLCNearRange': 814637.0,\n",
       " 'SLCFarRange': 852284.282920905,\n",
       " 'SLCFirstZeroDopplerTime': 53867.166045,\n",
       " 'SLCLastZeroDopplerTime': 53877.165933569675,\n",
       " 'LookDirection': 'right',\n",
       " 'PassType': 'descending',\n",
       " 'PRF': 3051.234,\n",
       " 'epsg': None,\n",
       " 'SLCRangeSize': 26320,\n",
       " 'SLCAzimuthSize': 30513,\n",
       " 'SLCRangePixelSize': 1.4304222394811763,\n",
       " 'SLCAzimuthPixelSize': 2.2716394524093184,\n",
       " 'SLCZeroDopplerTimeSpacing': 0.0003277362535944474,\n",
       " 'NumberOfStateVectors': 22,\n",
       " 'TimeOfFirstStateVector': 53770.0,\n",
       " 'StateVectorInterval': 10.0,\n",
       " 'SV_Pos_1': [412605.76364257897, -1718427.4530003974, -6791273.804238263],\n",
       " 'SV_Vel_1': [-5556.509011643243, 4932.47735153557, -1586.4299314875398],\n",
       " 'SV_Pos_2': [357054.2033832802, -1668964.9504383355, -6806747.020678225],\n",
       " 'SV_Vel_2': [-5553.69059217946, 4959.928226199225, -1508.1841142902117],\n",
       " 'SV_Pos_3': [301534.1993301364, -1619230.7949105832, -6821436.91620293],\n",
       " 'SV_Vel_3': [-5550.1979783058405, 4986.807275335607, -1429.7672335927248],\n",
       " 'SV_Pos_4': [246052.48708023797, -1569230.724649902, -6835341.824730892],\n",
       " 'SV_Vel_4': [-5546.032450953252, 5013.110513639347, -1351.1882015061235],\n",
       " 'SV_Pos_5': [190615.78902828877, -1518970.517415468, -6848460.16937713],\n",
       " 'SV_Vel_5': [-5541.19536998133, 5038.834021057923, -1272.4559461860981],\n",
       " 'SV_Pos_6': [135230.81358014466, -1468455.9898416891, -6860790.462612291],\n",
       " 'SV_Vel_6': [-5535.68817397631, 5063.973943031016, -1193.579411230696],\n",
       " 'SV_Pos_7': [79904.25436638635, -1417692.9967867965, -6872331.306421472],\n",
       " 'SV_Vel_7': [-5529.512380049964, 5088.526490733678, -1114.5675550755025],\n",
       " 'SV_Pos_8': [24642.789456709295, -1366687.4306754074, -6883081.392454184],\n",
       " 'SV_Vel_8': [-5522.669583666087, 5112.487941416996, -1035.4293503226183],\n",
       " 'SV_Pos_9': [-30546.919423605956, -1315445.2208258184, -6893039.5021520285],\n",
       " 'SV_Vel_9': [-5515.1614585371135, 5135.854638996469, -956.1737829016279],\n",
       " 'SV_Pos_10': [-85658.22767640473, -1263972.3327712629, -6902204.506867494],\n",
       " 'SV_Vel_10': [-5506.989756548287, 5158.622994737868, -876.8098511643678],\n",
       " 'SV_Pos_11': [-140684.50861333762, -1212274.7675809553, -6910575.367982466],\n",
       " 'SV_Vel_11': [-5498.156307682941, 5180.789487946928, -797.3465649771586],\n",
       " 'SV_Pos_12': [-195619.1542385394, -1160358.561181118, -6918151.137026698],\n",
       " 'SV_Vel_12': [-5488.663019947733, 5202.3506666589665, -717.7929448130285],\n",
       " 'SV_Pos_13': [-250455.57603117396, -1108229.7836756993, -6924930.955795773],\n",
       " 'SV_Vel_13': [-5478.51187929481, 5223.3031483266595, -638.1580208415544],\n",
       " 'SV_Pos_14': [-305187.2057244693, -1055894.5386586771, -6930914.056454387],\n",
       " 'SV_Vel_14': [-5467.704949463006, 5243.6436204581105, -558.4508319565385],\n",
       " 'SV_Pos_15': [-359807.49607584777, -1003358.9625050452, -6936099.761602614],\n",
       " 'SV_Vel_15': [-5456.2443716136495, 5263.368841128944, -478.68042464590945],\n",
       " 'SV_Pos_16': [-414309.921633545, -950629.2236533856, -6940487.484327506],\n",
       " 'SV_Vel_16': [-5444.132363885396, 5282.475639444712, -398.8558517994622],\n",
       " 'SV_Pos_17': [-468687.97950309695, -897711.5218881271, -6944076.728254179],\n",
       " 'SV_Vel_17': [-5431.371220946001, 5300.960916001427, -318.9861715142105],\n",
       " 'SV_Pos_18': [-522935.1901138237, -844612.0876217965, -6946867.087596852],\n",
       " 'SV_Vel_18': [-5417.963313544042, 5318.82164334606, -239.080445899737],\n",
       " 'SV_Pos_19': [-577045.0979850668, -791337.181177143, -6948858.247209433],\n",
       " 'SV_Vel_19': [-5403.911088060278, 5336.054866434894, -159.14773988686636],\n",
       " 'SV_Pos_20': [-631011.272485927, -737893.0920657621, -6950049.982622924],\n",
       " 'SV_Vel_20': [-5389.217066048439, 5352.657703035133, -79.19712012269208],\n",
       " 'SV_Pos_21': [-684827.3085785117, -684286.1382578639, -6950442.160049578],\n",
       " 'SV_Vel_21': [-5373.8838437492805, 5368.627343982597, 0.7623459151872405],\n",
       " 'SV_Pos_22': [-738486.8275546841, -630522.6654485387, -6950034.736373863],\n",
       " 'SV_Vel_22': [-5357.914091594067, 5383.961053382672, 80.72159071807843]}"
      ]
     },
     "execution_count": 17,
     "metadata": {},
     "output_type": "execute_result"
    }
   ],
   "source": [
    "myRSLC.assembleMeta()\n",
    "myRSLC.meta"
   ]
  },
  {
   "cell_type": "code",
   "execution_count": null,
   "id": "9ccce841-fadb-4602-803a-3c6a36e4804b",
   "metadata": {},
   "outputs": [],
   "source": []
  }
 ],
 "metadata": {
  "kernelspec": {
   "display_name": "base",
   "language": "python",
   "name": "base"
  },
  "language_info": {
   "codemirror_mode": {
    "name": "ipython",
    "version": 3
   },
   "file_extension": ".py",
   "mimetype": "text/x-python",
   "name": "python",
   "nbconvert_exporter": "python",
   "pygments_lexer": "ipython3",
   "version": "3.10.14"
  }
 },
 "nbformat": 4,
 "nbformat_minor": 5
}
