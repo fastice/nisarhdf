{
 "cells": [
  {
   "cell_type": "markdown",
   "id": "4193df4a-d02f-425c-a4cb-8d76481c2822",
   "metadata": {},
   "source": [
    "# Tutorial Notebook for nisarhdf.nisarRSLCHDF\n",
    "---"
   ]
  },
  {
   "cell_type": "markdown",
   "id": "69ffdf44-7fe3-4e24-8b4f-a2f69618c7c5",
   "metadata": {},
   "source": [
    "This notebook demonstrates the functionality of `nisarRSLCHDF`, which is at tool for reading NISAR **SLC** products.  Some of its functionality is specifically developed for the Greenland Mapping Project (GrIMP) workflows, but it may also be of general use for working with these products. If nothing else, the source code provides examples of how to unpack these projects.\n",
    "\n",
    "Note, this class largely serves to unpack and reformat RSLC data. As such, at present, there is no support for data cubes. The **RSLC** products can be large, so it may not work well on machines with limited memory."
   ]
  },
  {
   "cell_type": "markdown",
   "id": "26b11760-8e44-49d4-8574-c9a7fb919fa2",
   "metadata": {},
   "source": [
    "## Installation"
   ]
  },
  {
   "cell_type": "markdown",
   "id": "61b3aece-3a54-4800-b2e2-92321da963d0",
   "metadata": {},
   "source": [
    "The easiest way to ensure the code works is to create a custom environment using the *environment.yml* file included in this *nisarhdf* repository. To do so execute the following,\n",
    "\n",
    "`conda env create -f environment.yml`\n",
    "\n",
    "Then setup the kernel for the Jupyter notebooks with the command:\n",
    "\n",
    "`python -m ipykernel install --user --name=nisarcryo`\n",
    "\n",
    "Then activate the environment:\n",
    "\n",
    "`conda activate nisarcryo`\n",
    "\n",
    "Finally, start Jupyter and open the notebooks.\n",
    "\n",
    "**Even if you want to work with your existing environment, the *environment.yml* file demonstrates which packages must be installed if they are not already present.**\n"
   ]
  },
  {
   "cell_type": "markdown",
   "id": "00da1df1-c22f-46ac-a1cb-98b429da3c2f",
   "metadata": {},
   "source": [
    "## Python Imports"
   ]
  },
  {
   "cell_type": "code",
   "execution_count": 1,
   "id": "b6de4d07-f1e9-425c-9189-2dedaf0f2880",
   "metadata": {},
   "outputs": [],
   "source": [
    "%load_ext autoreload\n",
    "%autoreload 2\n",
    "import nisarhdf\n",
    "import matplotlib.pyplot as plt\n",
    "import numpy as np\n",
    "from mpl_toolkits.axes_grid1 import make_axes_locatable\n",
    "import rioxarray\n",
    "import getpass\n",
    "import os"
   ]
  },
  {
   "cell_type": "code",
   "execution_count": 2,
   "id": "3476f73b-50a7-4dbf-8987-3981d6116110",
   "metadata": {},
   "outputs": [],
   "source": [
    "if not os.path.exists('./output'):\n",
    "    os.mkdir('./output')"
   ]
  },
  {
   "cell_type": "markdown",
   "id": "4b367804-ec39-4c1b-8747-8e28c60002f0",
   "metadata": {},
   "source": [
    "## Open the HDF"
   ]
  },
  {
   "cell_type": "markdown",
   "id": "6a121b9b-afa5-40e6-bb4e-f678fd29362c",
   "metadata": {},
   "source": [
    "Edit the path below to point to the ROFF product you wish to work with."
   ]
  },
  {
   "cell_type": "code",
   "execution_count": 3,
   "id": "5fb6b8f1-82e8-4c84-a246-f8573414ea74",
   "metadata": {},
   "outputs": [
    {
     "name": "stdout",
     "output_type": "stream",
     "text": [
      "s3://nisar-st-data-ondemand/ALOS-2-data/INSAR/cryo_sample_products_092024/frame_280/rslc_products/rslc_ALOS2496725280-230804.h5\n"
     ]
    }
   ],
   "source": [
    "if getpass.getuser() in ['jovyan']:\n",
    "    RSLCFile  = 's3://nisar-st-data-ondemand/ALOS-2-data/INSAR/cryo_sample_products_092024/frame_280/rslc_products/rslc_ALOS2496725280-230804.h5'\n",
    "else:\n",
    "    RSLCFile = '/Volumes/insar1/ian/NISAR/strips/frame_280/rslc_products/rslc_ALOS2496725280-230804-008.h5' # Modify to local file path\n",
    "print(RSLCFile)"
   ]
  },
  {
   "cell_type": "markdown",
   "id": "f018659e-33fc-4730-9061-6fa2a3b55d0e",
   "metadata": {},
   "source": [
    "Create an instance and open the hdf as shown below. For normal products, you shouldn't have to specify the orbit, but while the orbit fields are present in the example file, they are not populated. When you open the hdf, you can specify the precise orbit XMLs if desired, which are release a few weeks after the MOI orbits used in the processing. Note the **RSLC** files are large, so use `noLoadData=True` to just load the meta data."
   ]
  },
  {
   "cell_type": "code",
   "execution_count": null,
   "id": "4e52594d-aeab-4ec3-a4a0-c9b0bd914484",
   "metadata": {},
   "outputs": [
    {
     "name": "stdout",
     "output_type": "stream",
     "text": [
      "Could not open with page_buf_size, opening for non-optimized access\n",
      "RSLC zeroDopplerStartTime\n",
      "[660125.36827613]\n"
     ]
    }
   ],
   "source": [
    "myRSLC = nisarhdf.nisarRSLCHDF()\n",
    "myRSLC.openHDF(RSLCFile, referenceOrbitXML=None, referenceOrbit=49672, frame=5280, noLoadData=False)"
   ]
  },
  {
   "cell_type": "markdown",
   "id": "9955b5e0-b6e4-468e-8abc-c304da7703db",
   "metadata": {},
   "source": [
    "## RSLC Parameters"
   ]
  },
  {
   "cell_type": "markdown",
   "id": "40a869eb-827d-468f-8167-60c757d6b3fe",
   "metadata": {},
   "source": [
    "A summary of some of the more important parameters for the **RUNW** products can be obtained by."
   ]
  },
  {
   "cell_type": "code",
   "execution_count": null,
   "id": "60b76e4c-8747-4fdf-a8de-e4485b13291b",
   "metadata": {},
   "outputs": [],
   "source": [
    "myRSLC.printParams()"
   ]
  },
  {
   "cell_type": "markdown",
   "id": "f225556b-96d1-4a43-bd23-9960e460c461",
   "metadata": {},
   "source": [
    "## Save RSLC to Binary File"
   ]
  },
  {
   "cell_type": "markdown",
   "id": "1c20db0b-eb52-47f2-aa9c-f27a52fc45b1",
   "metadata": {},
   "source": [
    "The RSLC data can be dumped to a floating binary (`np.complex64`) or tiff file. This will take several minutes. Binary output can be produced with the following call:"
   ]
  },
  {
   "cell_type": "code",
   "execution_count": null,
   "id": "053fcabb-c20f-4d42-ae63-30d38487fec0",
   "metadata": {},
   "outputs": [],
   "source": [
    "myRSLC.writeData(f'output/RSLC.{myRSLC.referenceOrbit}_{myRSLC.frame}', bands=['HH'], tiff=False)"
   ]
  },
  {
   "cell_type": "markdown",
   "id": "c19c49be-cd9d-4f0c-9f9d-ca87494c522f",
   "metadata": {},
   "source": [
    "To save as tiff, run the same command with `tiff=True, driverName='GTiff'`. Using `driverName=GTiff` avoids including pyramids. which may not be needed. For cloudoptimized geotiff, leave the default value."
   ]
  },
  {
   "cell_type": "code",
   "execution_count": null,
   "id": "5932c264-c86e-43c9-a4ee-71ae7e587708",
   "metadata": {},
   "outputs": [],
   "source": []
  }
 ],
 "metadata": {
  "kernelspec": {
   "display_name": "base",
   "language": "python",
   "name": "base"
  },
  "language_info": {
   "codemirror_mode": {
    "name": "ipython",
    "version": 3
   },
   "file_extension": ".py",
   "mimetype": "text/x-python",
   "name": "python",
   "nbconvert_exporter": "python",
   "pygments_lexer": "ipython3",
   "version": "3.12.2"
  }
 },
 "nbformat": 4,
 "nbformat_minor": 5
}
