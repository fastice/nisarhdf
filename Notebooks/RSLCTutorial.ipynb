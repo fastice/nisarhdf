{
 "cells": [
  {
   "cell_type": "markdown",
   "id": "4193df4a-d02f-425c-a4cb-8d76481c2822",
   "metadata": {},
   "source": [
    "# Tutorial Notebook for nisarhdf.nisarRSLCHDF\n",
    "---"
   ]
  },
  {
   "cell_type": "markdown",
   "id": "69ffdf44-7fe3-4e24-8b4f-a2f69618c7c5",
   "metadata": {},
   "source": [
    "This notebook demonstrates the functionality of `nisarRSLCHDF`, which is at tool for reading NISAR **SLC** products.  Some of its functionality is specifically developed for the Greenland Mapping Project (GrIMP) workflows, but it may also be of general use for working with these products. If nothing else, the source code provides examples of how to unpack these projects.\n",
    "\n",
    "Note, this class largely serves to unpack and reformat RSLC data. As such, at present, there is no support for data cubes. The **RSLC** products can be large, so it may not work well on machines with limited memory."
   ]
  },
  {
   "cell_type": "markdown",
   "id": "26b11760-8e44-49d4-8574-c9a7fb919fa2",
   "metadata": {},
   "source": [
    "## Installation"
   ]
  },
  {
   "cell_type": "markdown",
   "id": "61b3aece-3a54-4800-b2e2-92321da963d0",
   "metadata": {},
   "source": [
    "The easiest way to ensure the code works is to create a custom environment using the *environment.yml* file included in this *nisarhdf* repository. To do so execute the following,\n",
    "\n",
    "`conda env create -f environment.yml`\n",
    "\n",
    "Then setup the kernel for the Jupyter notebooks with the command:\n",
    "\n",
    "`python -m ipykernel install --user --name=nisarcryo`\n",
    "\n",
    "Then activate the environment:\n",
    "\n",
    "`conda activate nisarcryo`\n",
    "\n",
    "Finally, start Jupyter and open the notebooks.\n",
    "\n",
    "**Even if you want to work with your existing environment, the *environment.yml* file demonstrates which packages must be installed if they are not already present.**\n"
   ]
  },
  {
   "cell_type": "markdown",
   "id": "00da1df1-c22f-46ac-a1cb-98b429da3c2f",
   "metadata": {},
   "source": [
    "## Python Imports"
   ]
  },
  {
   "cell_type": "code",
   "execution_count": 1,
   "id": "b6de4d07-f1e9-425c-9189-2dedaf0f2880",
   "metadata": {},
   "outputs": [],
   "source": [
    "%load_ext autoreload\n",
    "%autoreload 2\n",
    "import nisarhdf\n",
    "import matplotlib.pyplot as plt\n",
    "import numpy as np\n",
    "from mpl_toolkits.axes_grid1 import make_axes_locatable\n",
    "import rioxarray\n",
    "import getpass\n",
    "import os"
   ]
  },
  {
   "cell_type": "code",
   "execution_count": 2,
   "id": "3476f73b-50a7-4dbf-8987-3981d6116110",
   "metadata": {},
   "outputs": [],
   "source": [
    "if not os.path.exists('./output'):\n",
    "    os.mkdir('./output')"
   ]
  },
  {
   "cell_type": "markdown",
   "id": "4b367804-ec39-4c1b-8747-8e28c60002f0",
   "metadata": {},
   "source": [
    "## Open the HDF"
   ]
  },
  {
   "cell_type": "markdown",
   "id": "6a121b9b-afa5-40e6-bb4e-f678fd29362c",
   "metadata": {},
   "source": [
    "Edit the path below to point to the ROFF product you wish to work with."
   ]
  },
  {
   "cell_type": "code",
   "execution_count": 3,
   "id": "5fb6b8f1-82e8-4c84-a246-f8573414ea74",
   "metadata": {},
   "outputs": [
    {
     "name": "stdout",
     "output_type": "stream",
     "text": [
      "s3://nisar-st-data-ondemand/ALOS-2-data/INSAR/cryo_sample_products_092024/frame_280/rslc_products/rslc_ALOS2496725280-230804.h5\n"
     ]
    }
   ],
   "source": [
    "if getpass.getuser() in ['jovyan']:\n",
    "    RSLCFile  = 's3://nisar-st-data-ondemand/ALOS-2-data/INSAR/cryo_sample_products_092024/frame_280/rslc_products/rslc_ALOS2496725280-230804.h5'\n",
    "else:\n",
    "    RSLCFile = '/Volumes/insar1/ian/NISAR/strips/frame_280/rslc_products/rslc_ALOS2496725280-230804-008.h5' # Modify to local file path\n",
    "print(RSLCFile)"
   ]
  },
  {
   "cell_type": "markdown",
   "id": "f018659e-33fc-4730-9061-6fa2a3b55d0e",
   "metadata": {},
   "source": [
    "Create an instance and open the hdf as shown below. For normal products, you shouldn't have to specify the orbit, but while the orbit fields are present in the example file, they are not populated. When you open the hdf, you can specify the precise orbit XMLs if desired, which are release a few weeks after the MOI orbits used in the processing. Note the **RSLC** files are large, so use `noLoadData=True` to just load the meta data."
   ]
  },
  {
   "cell_type": "code",
   "execution_count": 12,
   "id": "4e52594d-aeab-4ec3-a4a0-c9b0bd914484",
   "metadata": {},
   "outputs": [
    {
     "name": "stdout",
     "output_type": "stream",
     "text": [
      "download: s3://nisar-st-data-ondemand/ALOS-2-data/INSAR/cryo_sample_products_092024/frame_280/rslc_products/rslc_ALOS2496725280-230804.h5 to ./rslc_ALOS2496725280-230804.h5\n",
      "RSLC zeroDopplerStartTime\n",
      "[660125.36827613]\n",
      "CPU times: user 34.1 s, sys: 3.69 s, total: 37.8 s\n",
      "Wall time: 1min 8s\n"
     ]
    }
   ],
   "source": [
    "%%time\n",
    "filename = os.path.basename(RSLCFile)\n",
    "# Copying is a workaround until problems with direct S3 access fixed.\n",
    "!aws s3 cp {RSLCFile} ./{filename}\n",
    "myRSLC = nisarhdf.nisarRSLCHDF()\n",
    "#myRSLC.openHDF(RSLCFile, referenceOrbitXML=None, referenceOrbit=49672, frame=5280, noLoadData=False, page_buf_size=16*1024**3)\n",
    "myRSLC.openHDF(filename, referenceOrbitXML=None, referenceOrbit=49672, frame=5280, noLoadData=False, page_buf_size=16*1024**3)\n",
    "!rm {filename}"
   ]
  },
  {
   "cell_type": "code",
   "execution_count": 18,
   "id": "b407c580-550c-4908-b420-7c9a8bf58f81",
   "metadata": {},
   "outputs": [
    {
     "name": "stdout",
     "output_type": "stream",
     "text": [
      "RSLC zeroDopplerStartTime\n",
      "[660125.36827613]\n"
     ]
    },
    {
     "ename": "OSError",
     "evalue": "Can't synchronously read data (curl cannot perform request)",
     "output_type": "error",
     "traceback": [
      "\u001b[0;31m---------------------------------------------------------------------------\u001b[0m",
      "\u001b[0;31mOSError\u001b[0m                                   Traceback (most recent call last)",
      "File \u001b[0;32m<timed exec>:3\u001b[0m\n",
      "File \u001b[0;32m~/develop/nisarhdf/nisarhdf/nisarBaseHDF.py:981\u001b[0m, in \u001b[0;36mnisarBaseHDF.loadData\u001b[0;34m(self, fields, useNumpy, noLoadData, resetFields)\u001b[0m\n\u001b[1;32m    979\u001b[0m     \u001b[38;5;28mself\u001b[39m\u001b[38;5;241m.\u001b[39mnoDataLocations \u001b[38;5;241m=\u001b[39m np\u001b[38;5;241m.\u001b[39marray([])\n\u001b[1;32m    980\u001b[0m \u001b[38;5;28;01melse\u001b[39;00m:\n\u001b[0;32m--> 981\u001b[0m     \u001b[38;5;28mself\u001b[39m\u001b[38;5;241m.\u001b[39mnoDataLocations \u001b[38;5;241m=\u001b[39m \u001b[43mnp\u001b[49m\u001b[38;5;241;43m.\u001b[39;49m\u001b[43misnan\u001b[49m\u001b[43m(\u001b[49m\u001b[38;5;28;43mgetattr\u001b[39;49m\u001b[43m(\u001b[49m\u001b[38;5;28;43mself\u001b[39;49m\u001b[43m,\u001b[49m\u001b[43m \u001b[49m\u001b[43mfields\u001b[49m\u001b[43m[\u001b[49m\u001b[38;5;241;43m0\u001b[39;49m\u001b[43m]\u001b[49m\u001b[43m)\u001b[49m\u001b[43m)\u001b[49m\n",
      "File \u001b[0;32mh5py/_objects.pyx:54\u001b[0m, in \u001b[0;36mh5py._objects.with_phil.wrapper\u001b[0;34m()\u001b[0m\n",
      "File \u001b[0;32mh5py/_objects.pyx:55\u001b[0m, in \u001b[0;36mh5py._objects.with_phil.wrapper\u001b[0;34m()\u001b[0m\n",
      "File \u001b[0;32m/opt/conda/lib/python3.12/site-packages/h5py/_hl/dataset.py:1091\u001b[0m, in \u001b[0;36mDataset.__array__\u001b[0;34m(self, dtype, copy)\u001b[0m\n\u001b[1;32m   1088\u001b[0m \u001b[38;5;28;01mif\u001b[39;00m \u001b[38;5;28mself\u001b[39m\u001b[38;5;241m.\u001b[39msize \u001b[38;5;241m==\u001b[39m \u001b[38;5;241m0\u001b[39m:\n\u001b[1;32m   1089\u001b[0m     \u001b[38;5;28;01mreturn\u001b[39;00m arr\n\u001b[0;32m-> 1091\u001b[0m \u001b[38;5;28;43mself\u001b[39;49m\u001b[38;5;241;43m.\u001b[39;49m\u001b[43mread_direct\u001b[49m\u001b[43m(\u001b[49m\u001b[43marr\u001b[49m\u001b[43m)\u001b[49m\n\u001b[1;32m   1092\u001b[0m \u001b[38;5;28;01mreturn\u001b[39;00m arr\n",
      "File \u001b[0;32m/opt/conda/lib/python3.12/site-packages/h5py/_hl/dataset.py:1047\u001b[0m, in \u001b[0;36mDataset.read_direct\u001b[0;34m(self, dest, source_sel, dest_sel)\u001b[0m\n\u001b[1;32m   1044\u001b[0m     dest_sel \u001b[38;5;241m=\u001b[39m sel\u001b[38;5;241m.\u001b[39mselect(dest\u001b[38;5;241m.\u001b[39mshape, dest_sel)\n\u001b[1;32m   1046\u001b[0m \u001b[38;5;28;01mfor\u001b[39;00m mspace \u001b[38;5;129;01min\u001b[39;00m dest_sel\u001b[38;5;241m.\u001b[39mbroadcast(source_sel\u001b[38;5;241m.\u001b[39marray_shape):\n\u001b[0;32m-> 1047\u001b[0m     \u001b[38;5;28;43mself\u001b[39;49m\u001b[38;5;241;43m.\u001b[39;49m\u001b[43mid\u001b[49m\u001b[38;5;241;43m.\u001b[39;49m\u001b[43mread\u001b[49m\u001b[43m(\u001b[49m\u001b[43mmspace\u001b[49m\u001b[43m,\u001b[49m\u001b[43m \u001b[49m\u001b[43mfspace\u001b[49m\u001b[43m,\u001b[49m\u001b[43m \u001b[49m\u001b[43mdest\u001b[49m\u001b[43m,\u001b[49m\u001b[43m \u001b[49m\u001b[43mdxpl\u001b[49m\u001b[38;5;241;43m=\u001b[39;49m\u001b[38;5;28;43mself\u001b[39;49m\u001b[38;5;241;43m.\u001b[39;49m\u001b[43m_dxpl\u001b[49m\u001b[43m)\u001b[49m\n",
      "File \u001b[0;32mh5py/_objects.pyx:54\u001b[0m, in \u001b[0;36mh5py._objects.with_phil.wrapper\u001b[0;34m()\u001b[0m\n",
      "File \u001b[0;32mh5py/_objects.pyx:55\u001b[0m, in \u001b[0;36mh5py._objects.with_phil.wrapper\u001b[0;34m()\u001b[0m\n",
      "File \u001b[0;32mh5py/h5d.pyx:241\u001b[0m, in \u001b[0;36mh5py.h5d.DatasetID.read\u001b[0;34m()\u001b[0m\n",
      "File \u001b[0;32mh5py/_proxy.pyx:113\u001b[0m, in \u001b[0;36mh5py._proxy.dset_rw\u001b[0;34m()\u001b[0m\n",
      "\u001b[0;31mOSError\u001b[0m: Can't synchronously read data (curl cannot perform request)"
     ]
    }
   ],
   "source": [
    "%%time\n",
    "myRSLC = nisarhdf.nisarRSLCHDF()\n",
    "myRSLC.openHDF(RSLCFile, referenceOrbitXML=None, referenceOrbit=49672, frame=5280, noLoadData=True, page_buf_size=16*1024**3)\n",
    "myRSLC.loadData(['HH'], useNumpy=False)"
   ]
  },
  {
   "cell_type": "markdown",
   "id": "9955b5e0-b6e4-468e-8abc-c304da7703db",
   "metadata": {},
   "source": [
    "## RSLC Parameters"
   ]
  },
  {
   "cell_type": "markdown",
   "id": "40a869eb-827d-468f-8167-60c757d6b3fe",
   "metadata": {},
   "source": [
    "A summary of some of the more important parameters for the **RUNW** products can be obtained by."
   ]
  },
  {
   "cell_type": "code",
   "execution_count": 16,
   "id": "60b76e4c-8747-4fdf-a8de-e4485b13291b",
   "metadata": {},
   "outputs": [
    {
     "name": "stdout",
     "output_type": "stream",
     "text": [
      "RSLC.referenceOrbit = 49672 \n",
      "RSLC.frame = 5280 \n",
      "RSLC.datetime = 2023-08-04 14:57:47.166045 \n",
      "RSLC.referenceGranule = None\n",
      "RSLC.SLCNearRange = 814637.0 \n",
      "RSLC.SLCFarRange = 852284.282920905 \n",
      "RSLC.SLCFirstZeroDopplerTime = 53867.166045 \n",
      "RSLC.SLCLastZeroDopplerTime = 53877.165933569675 \n",
      "RSLC.LookDirection = right \n",
      "RSLC.PassType = descending \n",
      "RSLC.Wavelength = None\n",
      "RSLC.PRF = 3051.234 \n",
      "RSLC.epsg = None \n",
      "RSLC.SLCRangeSize = 26320 \n",
      "RSLC.SLCAzimuthSize = 30513 \n",
      "RSLC.SLCRangePixelSize = 1.4304222394811763 \n",
      "RSLC.SLCAzimuthPixelSize = 2.2716394523913013 \n",
      "RSLC.SLCZeroDopplerTimeSpacing = 0.0003277362535944474 \n",
      "RSLC.SLCNearRange = 814637.0 \n",
      "RSLC.SLCFirstZeroDopplerTime = 53867.166045 \n",
      "RSLC.SLCIncidenceCenter = None\n",
      "\n",
      "Data Fields\n",
      "RSLC.HH\n"
     ]
    }
   ],
   "source": [
    "myRSLC.printParams()"
   ]
  },
  {
   "cell_type": "markdown",
   "id": "f225556b-96d1-4a43-bd23-9960e460c461",
   "metadata": {},
   "source": [
    "## Save RSLC to Binary File"
   ]
  },
  {
   "cell_type": "markdown",
   "id": "1c20db0b-eb52-47f2-aa9c-f27a52fc45b1",
   "metadata": {},
   "source": [
    "The RSLC data can be dumped to a floating binary (`np.complex64`) or tiff file. This will take several minutes. Binary output can be produced with the following call:"
   ]
  },
  {
   "cell_type": "code",
   "execution_count": 6,
   "id": "053fcabb-c20f-4d42-ae63-30d38487fec0",
   "metadata": {},
   "outputs": [],
   "source": [
    "myRSLC.writeData(f'output/RSLC.{myRSLC.referenceOrbit}_{myRSLC.frame}', bands=['HH'], tiff=False)"
   ]
  },
  {
   "cell_type": "markdown",
   "id": "c19c49be-cd9d-4f0c-9f9d-ca87494c522f",
   "metadata": {},
   "source": [
    "To save as tiff, run the same command with `tiff=True, driverName='GTiff'`. Using `driverName=GTiff` avoids including pyramids. which may not be needed. For cloudoptimized geotiff, leave the default value."
   ]
  },
  {
   "cell_type": "code",
   "execution_count": 11,
   "id": "5932c264-c86e-43c9-a4ee-71ae7e587708",
   "metadata": {},
   "outputs": [],
   "source": [
    "#!rm output/RSLC.49672_5280.HH"
   ]
  },
  {
   "cell_type": "code",
   "execution_count": null,
   "id": "c0e078f3-9ab4-4186-aed5-949685a22496",
   "metadata": {},
   "outputs": [],
   "source": []
  }
 ],
 "metadata": {
  "kernelspec": {
   "display_name": "base",
   "language": "python",
   "name": "base"
  },
  "language_info": {
   "codemirror_mode": {
    "name": "ipython",
    "version": 3
   },
   "file_extension": ".py",
   "mimetype": "text/x-python",
   "name": "python",
   "nbconvert_exporter": "python",
   "pygments_lexer": "ipython3",
   "version": "3.12.9"
  }
 },
 "nbformat": 4,
 "nbformat_minor": 5
}
