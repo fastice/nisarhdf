{
 "cells": [
  {
   "cell_type": "markdown",
   "id": "4193df4a-d02f-425c-a4cb-8d76481c2822",
   "metadata": {},
   "source": [
    "# Tutorial Notebook for nisarhdf.nisarRSLCHDF\n",
    "---"
   ]
  },
  {
   "cell_type": "markdown",
   "id": "69ffdf44-7fe3-4e24-8b4f-a2f69618c7c5",
   "metadata": {},
   "source": [
    "This notebook demonstrates the functionality of `nisarRSLCHDF`, which is at tool for reading NISAR **SLC** products.  Some of its functionality is specifically developed for the Greenland Mapping Project (GrIMP) workflows, but it may also be of general use for working with these products. If nothing else, the source code provides examples of how to unpack these projects.\n",
    "\n",
    "Note, this class largely serves to unpack and reformat RSLC data. As such, at present, there is no support for data cubes. The **RSLC** products can be large, so it may not work well on machines with limited memory."
   ]
  },
  {
   "cell_type": "markdown",
   "id": "26b11760-8e44-49d4-8574-c9a7fb919fa2",
   "metadata": {},
   "source": [
    "## Installation"
   ]
  },
  {
   "cell_type": "markdown",
   "id": "61b3aece-3a54-4800-b2e2-92321da963d0",
   "metadata": {},
   "source": [
    "The easiest way to ensure the code works is to create a custom environment using the *environment.yml* file included in this *nisarhdf* repository. To do so execute the following,\n",
    "\n",
    "`conda env create -f environment.yml`\n",
    "\n",
    "Then setup the kernel for the Jupyter notebooks with the command:\n",
    "\n",
    "`python -m ipykernel install --user --name=nisarcryo`\n",
    "\n",
    "Then activate the environment:\n",
    "\n",
    "`conda activate nisarcryo`\n",
    "\n",
    "Finally, start Jupyter and open the notebooks.\n",
    "\n",
    "**Even if you want to work with your existing environment, the *environment.yml* file demonstrates which packages must be installed if they are not already present.**\n"
   ]
  },
  {
   "cell_type": "markdown",
   "id": "00da1df1-c22f-46ac-a1cb-98b429da3c2f",
   "metadata": {},
   "source": [
    "## Python Imports"
   ]
  },
  {
   "cell_type": "code",
   "execution_count": 1,
   "id": "b6de4d07-f1e9-425c-9189-2dedaf0f2880",
   "metadata": {},
   "outputs": [],
   "source": [
    "%load_ext autoreload\n",
    "%autoreload 2\n",
    "import nisarhdf\n",
    "import matplotlib.pyplot as plt\n",
    "import numpy as np\n",
    "from mpl_toolkits.axes_grid1 import make_axes_locatable\n",
    "import rioxarray"
   ]
  },
  {
   "cell_type": "markdown",
   "id": "4b367804-ec39-4c1b-8747-8e28c60002f0",
   "metadata": {},
   "source": [
    "## Open the HDF"
   ]
  },
  {
   "cell_type": "markdown",
   "id": "6a121b9b-afa5-40e6-bb4e-f678fd29362c",
   "metadata": {},
   "source": [
    "Edit the path below to point to the ROFF product you wish to work with."
   ]
  },
  {
   "cell_type": "code",
   "execution_count": 2,
   "id": "5fb6b8f1-82e8-4c84-a246-f8573414ea74",
   "metadata": {},
   "outputs": [],
   "source": [
    "RSLCFile = '/Volumes/insar1/ian/NISAR/strips/frame_280/rslc_products/rslc_ALOS2496725280-230804-008.h5'"
   ]
  },
  {
   "cell_type": "markdown",
   "id": "f018659e-33fc-4730-9061-6fa2a3b55d0e",
   "metadata": {},
   "source": [
    "Create an instance and open the hdf as shown below. For normal products, you shouldn't have to specify the orbit, but while the orbit fields are present in the example file, they are not populated. When you open the hdf, you can specify the precise orbit XMLs if desired, which are release a few weeks after the MOI orbits used in the processing. Note the **RSLC** files are large, so use `noLoadData=True` to just load the meta data."
   ]
  },
  {
   "cell_type": "code",
   "execution_count": 3,
   "id": "4e52594d-aeab-4ec3-a4a0-c9b0bd914484",
   "metadata": {},
   "outputs": [
    {
     "name": "stdout",
     "output_type": "stream",
     "text": [
      "Could not open with page_buf_size, opening for non-optimized access\n",
      "RSLC zeroDopplerStartTime\n",
      "[660125.36827613]\n"
     ]
    }
   ],
   "source": [
    "myRSLC = nisarhdf.nisarRSLCHDF()\n",
    "myRSLC.openHDF(RSLCFile, referenceOrbitXML=None, referenceOrbit=49672, frame=5280, noLoadData=False)"
   ]
  },
  {
   "cell_type": "markdown",
   "id": "9955b5e0-b6e4-468e-8abc-c304da7703db",
   "metadata": {},
   "source": [
    "## RSLC Parameters"
   ]
  },
  {
   "cell_type": "markdown",
   "id": "40a869eb-827d-468f-8167-60c757d6b3fe",
   "metadata": {},
   "source": [
    "A summary of some of the more important parameters for the **RUNW** products can be obtained by."
   ]
  },
  {
   "cell_type": "code",
   "execution_count": 4,
   "id": "60b76e4c-8747-4fdf-a8de-e4485b13291b",
   "metadata": {},
   "outputs": [
    {
     "name": "stdout",
     "output_type": "stream",
     "text": [
      "RSLC.referenceOrbit = 49672 \n",
      "RSLC.frame = 5280 \n",
      "RSLC.datetime = 2023-08-04 14:57:47.166045 \n",
      "RSLC.referenceGranule = None\n",
      "RSLC.SLCNearRange = 814637.0 \n",
      "RSLC.SLCFarRange = 852284.282920905 \n",
      "RSLC.SLCFirstZeroDopplerTime = 53867.166045 \n",
      "RSLC.SLCLastZeroDopplerTime = 53877.165933569675 \n",
      "RSLC.LookDirection = right \n",
      "RSLC.PassType = descending \n",
      "RSLC.Wavelength = None\n",
      "RSLC.PRF = 3051.234 \n",
      "RSLC.epsg = None \n",
      "RSLC.SLCRangeSize = 26320 \n",
      "RSLC.SLCAzimuthSize = 30513 \n",
      "RSLC.SLCRangePixelSize = 1.4304222394811763 \n",
      "RSLC.SLCAzimuthPixelSize = 2.2716394524093184 \n",
      "RSLC.SLCZeroDopplerTimeSpacing = 0.0003277362535944474 \n",
      "RSLC.SLCNearRange = 814637.0 \n",
      "RSLC.SLCFirstZeroDopplerTime = 53867.166045 \n",
      "RSLC.SLCIncidenceCenter = None\n",
      "\n",
      "Data Fields\n",
      "RSLC.HH\n"
     ]
    }
   ],
   "source": [
    "myRSLC.printParams()"
   ]
  },
  {
   "cell_type": "markdown",
   "id": "f225556b-96d1-4a43-bd23-9960e460c461",
   "metadata": {},
   "source": [
    "## Save RSLC to Binary File"
   ]
  },
  {
   "cell_type": "markdown",
   "id": "1c20db0b-eb52-47f2-aa9c-f27a52fc45b1",
   "metadata": {},
   "source": [
    "The RSLC data can be dumped to a float binary (`np.complex64`) file with the following call:"
   ]
  },
  {
   "cell_type": "code",
   "execution_count": null,
   "id": "053fcabb-c20f-4d42-ae63-30d38487fec0",
   "metadata": {},
   "outputs": [],
   "source": [
    "myRSLC.writeData(f'output/RSLC.{myRSLC.referenceOrbit}_{myRSLC.frame}', bands=['HH'], tiff=False)"
   ]
  },
  {
   "cell_type": "code",
   "execution_count": null,
   "id": "9ccce841-fadb-4602-803a-3c6a36e4804b",
   "metadata": {},
   "outputs": [],
   "source": []
  }
 ],
 "metadata": {
  "kernelspec": {
   "display_name": "base",
   "language": "python",
   "name": "base"
  },
  "language_info": {
   "codemirror_mode": {
    "name": "ipython",
    "version": 3
   },
   "file_extension": ".py",
   "mimetype": "text/x-python",
   "name": "python",
   "nbconvert_exporter": "python",
   "pygments_lexer": "ipython3",
   "version": "3.10.14"
  }
 },
 "nbformat": 4,
 "nbformat_minor": 5
}
