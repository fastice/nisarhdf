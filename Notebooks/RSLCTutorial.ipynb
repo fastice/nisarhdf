{
 "cells": [
  {
   "cell_type": "markdown",
   "id": "4193df4a-d02f-425c-a4cb-8d76481c2822",
   "metadata": {},
   "source": [
    "# Tutorial Notebook for nisarhdf.nisarRSLCHDF\n",
    "---"
   ]
  },
  {
   "cell_type": "markdown",
   "id": "69ffdf44-7fe3-4e24-8b4f-a2f69618c7c5",
   "metadata": {},
   "source": [
    "This notebook demonstrates the functionality of `nisarRSLCHDF`, which is at tool for reading NISAR **SLC** products.  Some of its functionality is specifically developed for the Greenland Mapping Project (GrIMP) workflows, but it may also be of general use for working with these products. If nothing else, the source code provides examples of how to unpack these projects.\n",
    "\n",
    "Note, this class largely serves to unpack and reformat RSLC data. As such, at present, there is no support for data cubes. The **RSLC** products can be large, so it may not work well on machines with limited memory."
   ]
  },
  {
   "cell_type": "markdown",
   "id": "26b11760-8e44-49d4-8574-c9a7fb919fa2",
   "metadata": {},
   "source": [
    "## Installation"
   ]
  },
  {
   "cell_type": "markdown",
   "id": "61b3aece-3a54-4800-b2e2-92321da963d0",
   "metadata": {},
   "source": [
    "The easiest way to ensure the code works is to create a custom environment using the *environment.yml* file included in this *nisarhdf* repository. To do so execute the following,\n",
    "\n",
    "`conda env create -f environment.yml`\n",
    "\n",
    "Then setup the kernel for the Jupyter notebooks with the command:\n",
    "\n",
    "`python -m ipykernel install --user --name=nisarcryo`\n",
    "\n",
    "Then activate the environment:\n",
    "\n",
    "`conda activate nisarcryo`\n",
    "\n",
    "Finally, start Jupyter and open the notebooks.\n",
    "\n",
    "**Even if you want to work with your existing environment, the *environment.yml* file demonstrates which packages must be installed if they are not already present.**\n"
   ]
  },
  {
   "cell_type": "markdown",
   "id": "00da1df1-c22f-46ac-a1cb-98b429da3c2f",
   "metadata": {},
   "source": [
    "## Python Imports"
   ]
  },
  {
   "cell_type": "code",
   "execution_count": 10,
   "id": "ce23e49a-38ac-4266-9a3f-e5cfbfb24b9a",
   "metadata": {},
   "outputs": [
    {
     "name": "stdout",
     "output_type": "stream",
     "text": [
      "The autoreload extension is already loaded. To reload it, use:\n",
      "  %reload_ext autoreload\n"
     ]
    }
   ],
   "source": [
    "%load_ext autoreload\n",
    "%autoreload 2\n",
    "import nisarhdf\n",
    "import matplotlib.pyplot as plt\n",
    "import numpy as np\n",
    "from mpl_toolkits.axes_grid1 import make_axes_locatable\n",
    "import rioxarray\n",
    "import getpass\n",
    "import os"
   ]
  },
  {
   "cell_type": "code",
   "execution_count": 11,
   "id": "342182c8-fffb-4e69-a843-7c9b6adb435f",
   "metadata": {},
   "outputs": [],
   "source": [
    "if not os.path.exists('./output'):\n",
    "    os.mkdir('./output')"
   ]
  },
  {
   "cell_type": "markdown",
   "id": "480f6601-d487-4ed7-b2ee-d6417dd52745",
   "metadata": {},
   "source": [
    "## Open the HDF"
   ]
  },
  {
   "cell_type": "markdown",
   "id": "c717e02d-668e-4f94-83ce-aa5d1b8a4896",
   "metadata": {},
   "source": [
    "Access files via:\n",
    "\n",
    "- **`s3`** – ODS links (e.g., `s3://nisar-public/...`)\n",
    "- **`https`** – NISAR sample product suite via ASF (e.g., redirect to signed S3 URL)\n",
    "- **`local`** – Specify a local path to the HDF5 file.\n",
    "\n",
    "Create an instance and open the hdf as shown below. For normal products, you shouldn't have to specify the orbit, but while the orbit fields are present in the example file, they are not populated. When you open the hdf, you can specify the precise orbit XMLs if desired, which are release a few weeks after the MOI orbits used in the processing."
   ]
  },
  {
   "cell_type": "code",
   "execution_count": 12,
   "id": "1914cb69-0340-4084-b5e9-c306cf16e1a4",
   "metadata": {},
   "outputs": [],
   "source": [
    "files = {'s3': 's3://nisar-st-data-ondemand/ALOS-2-data/INSAR/cryo_sample_products_092024/frame_280/rslc_products/rslc_ALOS2496725280-230804.h5',\n",
    "         'https': 'https://nisar.asf.earthdatacloud.nasa.gov/NISAR-SAMPLE-DATA/RSLC/NISAR_L1_PR_RSLC_001_030_A_019_2000_SHNA_A_20081012T060910_20081012T060926_D00402_N_F_J_001/' \\\n",
    "             'NISAR_L1_PR_RSLC_001_030_A_019_2000_SHNA_A_20081012T060910_20081012T060926_D00402_N_F_J_001.h5',\n",
    "         'local': '/Volumes/insar1/ian/NISAR/strips/frame_280/rslc_products/rslc_ALOS2496725280-230804-008.h5'} # Modify to local file path"
   ]
  },
  {
   "cell_type": "code",
   "execution_count": 13,
   "id": "40c33d52-5d5e-4da8-816e-127362334bca",
   "metadata": {},
   "outputs": [
    {
     "data": {
      "text/plain": [
       "'https://nisar.asf.earthdatacloud.nasa.gov/NISAR-SAMPLE-DATA/RSLC/NISAR_L1_PR_RSLC_001_030_A_019_2000_SHNA_A_20081012T060910_20081012T060926_D00402_N_F_J_001/NISAR_L1_PR_RSLC_001_030_A_019_2000_SHNA_A_20081012T060910_20081012T060926_D00402_N_F_J_001.h5'"
      ]
     },
     "execution_count": 13,
     "metadata": {},
     "output_type": "execute_result"
    }
   ],
   "source": [
    "RSLCFile  = files['https']\n",
    "RSLCFile"
   ]
  },
  {
   "cell_type": "markdown",
   "id": "f018659e-33fc-4730-9061-6fa2a3b55d0e",
   "metadata": {},
   "source": [
    "Create an instance and open the hdf as shown below. For normal products, you shouldn't have to specify the orbit, but while the orbit fields are present in the example file, they are not populated. When you open the hdf, you can specify the precise orbit XMLs if desired, which are release a few weeks after the MOI orbits used in the processing. Note the **RSLC** files are large, so use `noLoadData=True` to just load the meta data."
   ]
  },
  {
   "cell_type": "code",
   "execution_count": 14,
   "id": "4e52594d-aeab-4ec3-a4a0-c9b0bd914484",
   "metadata": {},
   "outputs": [
    {
     "name": "stdout",
     "output_type": "stream",
     "text": [
      "[INFO] Resolving redirect: https://nisar.asf.earthdatacloud.nasa.gov/NISAR-SAMPLE-DATA/RSLC/NISAR_L1_PR_RSLC_001_030_A_019_2000_SHNA_A_20081012T060910_20081012T060926_D00402_N_F_J_001/NISAR_L1_PR_RSLC_001_030_A_019_2000_SHNA_A_20081012T060910_20081012T060926_D00402_N_F_J_001.h5\n",
      "[INFO] Downloading from: https://d1mv8zhcvry6x4.cloudfront.net/s3-7fdfbcb0ce308dc58d08f97acb1f0590/sds-n-cumulus-prod-nisar-sample-data.s3.us-west-2.amazonaws.com/RSLC/NISAR_L1_PR_RSLC_001_030_A_019_2000_SHNA_A_20081012T060910_20081012T060926_D00402_N_F_J_001/NISAR_L1_PR_RSLC_001_030_A_019_2000_SHNA_A_20081012T060910_20081012T060926_D00402_N_F_J_001.h5?A-userid=None&Expires=1750205236&Signature=jtkkppi~rG8IAXq-Aih6G-ryPDEK~Llw366Wsz3~YgVw7evdGd-uS-awlZUuqme-6PGgp4SHNB~2t7~TAZf9mvTOUjtsyqN2H2k~gM6jlhsVwEvnoCnPzJTAvW-uR6b7SJD2TdYPOUpntFUI3WjIr1PCOrcV6g8ndMII6Bq5nkhCLPKJS2qZkyirgFstTECy2WQxxDzhLBTzWDCgqz9f7ArvJUbpEvWJrtHjiTG~g9ld7gMU8pNGe4Be3py1dP7RJJoFHyuUqAKT3sFuqkHJGMy4lXjc3RT5W8l96knbOo-6JeDTOlKhvlRz7C8Ag3Gv2IvSzWoLjwmTzcawdezEsA__&Key-Pair-Id=KHD0G6YC92OMC\n",
      "[INFO] File downloaded into memory, opening with h5py...\n",
      "RSLC zeroDopplerStartTime\n",
      "[698755.86714187]\n",
      "CPU times: user 8.85 s, sys: 3.8 s, total: 12.7 s\n",
      "Wall time: 31.4 s\n"
     ]
    }
   ],
   "source": [
    "%%time\n",
    "myRSLC = nisarhdf.nisarRSLCHDF()\n",
    "myRSLC.openHDF(RSLCFile, referenceOrbitXML=None, referenceOrbit=49672, frame=5280, noLoadData=False, page_buf_size=16*1024**3)"
   ]
  },
  {
   "cell_type": "code",
   "execution_count": 15,
   "id": "b407c580-550c-4908-b420-7c9a8bf58f81",
   "metadata": {},
   "outputs": [
    {
     "name": "stdout",
     "output_type": "stream",
     "text": [
      "[INFO] Resolving redirect: https://nisar.asf.earthdatacloud.nasa.gov/NISAR-SAMPLE-DATA/RSLC/NISAR_L1_PR_RSLC_001_030_A_019_2000_SHNA_A_20081012T060910_20081012T060926_D00402_N_F_J_001/NISAR_L1_PR_RSLC_001_030_A_019_2000_SHNA_A_20081012T060910_20081012T060926_D00402_N_F_J_001.h5\n",
      "[INFO] Downloading from: https://d1mv8zhcvry6x4.cloudfront.net/s3-7fdfbcb0ce308dc58d08f97acb1f0590/sds-n-cumulus-prod-nisar-sample-data.s3.us-west-2.amazonaws.com/RSLC/NISAR_L1_PR_RSLC_001_030_A_019_2000_SHNA_A_20081012T060910_20081012T060926_D00402_N_F_J_001/NISAR_L1_PR_RSLC_001_030_A_019_2000_SHNA_A_20081012T060910_20081012T060926_D00402_N_F_J_001.h5?A-userid=None&Expires=1750205267&Signature=GKwq7Airpi7KBnBdrnDO6FxIGItQ5tyAMgz~K5Di-d7GHYO5keuiFv3pIzJYLEIWdLIkuq8Ms4NYrGFKRUyLevvJagIbn8krCj3Nr4f33QBbOnhAZEwzESjoCpjUI0oVtMVDxhWsZaUWmslM7m4AGMt-nn8af639quIRrhwXL0k5bzC93149T1ZHsm-aqoCaybomBys9dv6uIYGsTU5Qb0YUPb9saL-kcmZOJfIst23eDXjitTKwjXE5mh0UrOjIIY5CtQ7v-xamdJcztJjgt98CIzPz8IaN74DC32gRxfHrUEsaYDsiaIOWFIu~msuiXplrlDfIL5hU3T-uBv-6oA__&Key-Pair-Id=KHD0G6YC92OMC\n",
      "[INFO] File downloaded into memory, opening with h5py...\n",
      "RSLC zeroDopplerStartTime\n",
      "[698755.86714187]\n",
      "CPU times: user 7.34 s, sys: 3.07 s, total: 10.4 s\n",
      "Wall time: 21.5 s\n"
     ]
    }
   ],
   "source": [
    "%%time\n",
    "myRSLC = nisarhdf.nisarRSLCHDF()\n",
    "myRSLC.openHDF(RSLCFile, referenceOrbitXML=None, referenceOrbit=49672, frame=5280, noLoadData=True, page_buf_size=16*1024**3)\n",
    "myRSLC.loadData(['HH'], useNumpy=False)"
   ]
  },
  {
   "cell_type": "markdown",
   "id": "9955b5e0-b6e4-468e-8abc-c304da7703db",
   "metadata": {},
   "source": [
    "## RSLC Parameters"
   ]
  },
  {
   "cell_type": "markdown",
   "id": "40a869eb-827d-468f-8167-60c757d6b3fe",
   "metadata": {},
   "source": [
    "A summary of some of the more important parameters for the **RUNW** products can be obtained by."
   ]
  },
  {
   "cell_type": "code",
   "execution_count": 16,
   "id": "60b76e4c-8747-4fdf-a8de-e4485b13291b",
   "metadata": {},
   "outputs": [
    {
     "name": "stdout",
     "output_type": "stream",
     "text": [
      "RSLC.referenceOrbit = 49672 \n",
      "RSLC.frame = 5280 \n",
      "RSLC.datetime = 2008-10-12 06:09:12 \n",
      "RSLC.referenceGranule = None\n",
      "RSLC.SLCNearRange = 743587.3933110968 \n",
      "RSLC.SLCFarRange = 772526.7340224093 \n",
      "RSLC.SLCFirstZeroDopplerTime = 22152.0 \n",
      "RSLC.SLCLastZeroDopplerTime = 22164.999342105264 \n",
      "RSLC.LookDirection = right \n",
      "RSLC.PassType = ascending \n",
      "RSLC.Wavelength = None\n",
      "RSLC.PRF = 1520.0 \n",
      "RSLC.epsg = None \n",
      "RSLC.SLCRangeSize = 6179 \n",
      "RSLC.SLCAzimuthSize = 19760 \n",
      "RSLC.SLCRangePixelSize = 4.68425715625 \n",
      "RSLC.SLCAzimuthPixelSize = 4.484027431226178 \n",
      "RSLC.SLCZeroDopplerTimeSpacing = 0.0006578947368421052 \n",
      "RSLC.SLCNearRange = 743587.3933110968 \n",
      "RSLC.SLCFirstZeroDopplerTime = 22152.0 \n",
      "RSLC.SLCIncidenceCenter = None\n",
      "\n",
      "Data Fields\n",
      "RSLC.HH\n"
     ]
    }
   ],
   "source": [
    "myRSLC.printParams()"
   ]
  },
  {
   "cell_type": "markdown",
   "id": "f225556b-96d1-4a43-bd23-9960e460c461",
   "metadata": {},
   "source": [
    "## Save RSLC to Binary File"
   ]
  },
  {
   "cell_type": "markdown",
   "id": "1c20db0b-eb52-47f2-aa9c-f27a52fc45b1",
   "metadata": {},
   "source": [
    "The RSLC data can be dumped to a floating binary (`np.complex64`) or tiff file. This will take several minutes. Binary output can be produced with the following call:"
   ]
  },
  {
   "cell_type": "code",
   "execution_count": 17,
   "id": "053fcabb-c20f-4d42-ae63-30d38487fec0",
   "metadata": {},
   "outputs": [],
   "source": [
    "myRSLC.writeData(f'output/RSLC.{myRSLC.referenceOrbit}_{myRSLC.frame}', bands=['HH'], tiff=False)"
   ]
  },
  {
   "cell_type": "markdown",
   "id": "c19c49be-cd9d-4f0c-9f9d-ca87494c522f",
   "metadata": {},
   "source": [
    "To save as tiff, run the same command with `tiff=True, driverName='GTiff'`. Using `driverName=GTiff` avoids including pyramids. which may not be needed. For cloudoptimized geotiff, leave the default value."
   ]
  },
  {
   "cell_type": "code",
   "execution_count": 18,
   "id": "5932c264-c86e-43c9-a4ee-71ae7e587708",
   "metadata": {},
   "outputs": [],
   "source": [
    "#!rm output/RSLC.49672_5280.HH"
   ]
  },
  {
   "cell_type": "code",
   "execution_count": null,
   "id": "c0e078f3-9ab4-4186-aed5-949685a22496",
   "metadata": {},
   "outputs": [],
   "source": []
  }
 ],
 "metadata": {
  "kernelspec": {
   "display_name": "base",
   "language": "python",
   "name": "base"
  },
  "language_info": {
   "codemirror_mode": {
    "name": "ipython",
    "version": 3
   },
   "file_extension": ".py",
   "mimetype": "text/x-python",
   "name": "python",
   "nbconvert_exporter": "python",
   "pygments_lexer": "ipython3",
   "version": "3.10.14"
  }
 },
 "nbformat": 4,
 "nbformat_minor": 5
}
