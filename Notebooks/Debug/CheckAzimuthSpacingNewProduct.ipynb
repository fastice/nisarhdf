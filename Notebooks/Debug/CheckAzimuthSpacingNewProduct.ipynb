{
 "cells": [
  {
   "cell_type": "markdown",
   "id": "ae4c0cac-82f3-4cfb-bd8f-fede47edd01e",
   "metadata": {},
   "source": [
    "# Check Ground Track Velocity Against Azimuth Spacing."
   ]
  },
  {
   "cell_type": "code",
   "execution_count": 1,
   "id": "7e0ae9bb-af5f-4573-bfc2-7800fdd44a98",
   "metadata": {},
   "outputs": [],
   "source": [
    "%load_ext autoreload\n",
    "%autoreload 2\n",
    "import nisarhdf\n",
    "import matplotlib.pyplot as plt\n",
    "import numpy as np\n",
    "from mpl_toolkits.axes_grid1 import make_axes_locatable\n",
    "import rioxarray\n",
    "from osgeo import gdal\n",
    "import getpass"
   ]
  },
  {
   "cell_type": "markdown",
   "id": "962103db-e236-4060-89a6-ecf2a1db3951",
   "metadata": {},
   "source": [
    "## Open File as RIFG object"
   ]
  },
  {
   "cell_type": "markdown",
   "id": "118b5f0e-b9ad-4eeb-807b-58907a6be75d",
   "metadata": {},
   "source": [
    "This is the new product from Heresh, June 10, 2025."
   ]
  },
  {
   "cell_type": "code",
   "execution_count": 15,
   "id": "705bd5ad-480f-42fd-aff0-85b1136b6cc0",
   "metadata": {},
   "outputs": [
    {
     "name": "stdout",
     "output_type": "stream",
     "text": [
      "ref orbit None\n",
      "RIFG referenceZeroDopplerStartTime\n",
      "[698757.51712736]\n",
      "ref orbit None\n",
      "RIFG secondaryZeroDopplerStartTime\n",
      "[698680.64872828]\n"
     ]
    }
   ],
   "source": [
    "RIFGFile = 'product.h5' # Modify to local file path\n",
    "myRIFG = nisarhdf.nisarRIFGHDF()\n",
    "# For now includ orbits since they are not in the test products\n",
    "myRIFG.openHDF(RIFGFile , referenceOrbitXML=None, secondaryOrbitXML=None)\n",
    "#,\n",
    "#               referenceOrbit=49672, secondaryOrbit=49879)\n"
   ]
  },
  {
   "cell_type": "markdown",
   "id": "c5956471-450b-43ab-9cc1-a5b907cf78ea",
   "metadata": {},
   "source": [
    "## Check Azimuth Spacing and Ground Track Velocity Indepdendent of Ground-Track Velocity"
   ]
  },
  {
   "cell_type": "markdown",
   "id": "5cc5b5b9-27e7-47df-a96d-44efec41e925",
   "metadata": {},
   "source": [
    "Brute force approach by just finding the difference between $(R_{{mid}}, T_{{mid}})$ and $(R_{{mid}}, T_{{mid}} + \\delta T_{{mid}})$ in ECEF coordinates, which should give the  azimuth spacing."
   ]
  },
  {
   "cell_type": "code",
   "execution_count": 10,
   "id": "fc6cc00b-3e07-4753-a080-104d6568e3fa",
   "metadata": {},
   "outputs": [
    {
     "name": "stdout",
     "output_type": "stream",
     "text": [
      "sceneCenterAlongTrackSpacing = 22.4201\n"
     ]
    }
   ],
   "source": [
    "myRIFG.orbit = myRIFG.parseStateVectors()\n",
    "p1 = myRIFG.RTtoECEF(myRIFG.MLCenterRange, myRIFG.MLMidZeroDopplerTime,0 )\n",
    "p2 = myRIFG.RTtoECEF(myRIFG.MLCenterRange, myRIFG.MLMidZeroDopplerTime + myRIFG.MLZeroDopplerTimeSpacing,0 )\n",
    "print(f'sceneCenterAlongTrackSpacing = {np.sqrt(np.sum((p1-p2)**2)):.4f}')"
   ]
  },
  {
   "cell_type": "markdown",
   "id": "ebbacdc0-1e65-4b16-afce-435d4f338cba",
   "metadata": {},
   "source": [
    "That used my geocoding routine, so compare it against the data cube, which uses projected coordinates. Scale with appropriate projection scale factor."
   ]
  },
  {
   "cell_type": "code",
   "execution_count": 29,
   "id": "4518f7ae-360d-4b5c-aae6-ea7abf261854",
   "metadata": {},
   "outputs": [
    {
     "name": "stdout",
     "output_type": "stream",
     "text": [
      "34.80890724001087 -117.97139202430002\n",
      "sceneCenterAlongTrackSpacing = 22.4201\n"
     ]
    }
   ],
   "source": [
    "x, y = myRIFG.xyCube([myRIFG.MLCenterRange, myRIFG.MLCenterRange], \n",
    "                     [myRIFG.MLMidZeroDopplerTime, myRIFG.MLMidZeroDopplerTime + myRIFG.MLZeroDopplerTimeSpacing],\n",
    "                     [0, 0])\n",
    "# compute spacing in projected coordinates\n",
    "azspProj = np.sqrt(np.sum((x[0]-x[1])**2 + (y[0]-y[1])**2))\n",
    "# Scale to actual meters\n",
    "import pyproj\n",
    "lat, lon = myRIFG.CenterLatLon\n",
    "print(lat, lon)\n",
    "lengthScale = 1.0 / \\\n",
    "        pyproj.Proj(f\"EPSG:{myRIFG.epsg}\").get_factors(lon, lat).parallel_scale\n",
    "azsp = azspProj * lengthScale\n",
    "print(f'sceneCenterAlongTrackSpacing = {azsp:0.4f}')"
   ]
  },
  {
   "cell_type": "markdown",
   "id": "e0c09d3e-36cc-4a03-8b9f-fe1e8c022d60",
   "metadata": {},
   "source": [
    "The results are virtually identical, so no issue there. "
   ]
  },
  {
   "cell_type": "markdown",
   "id": "c7870780-537e-42dc-aecc-ab7eca25eafe",
   "metadata": {},
   "source": [
    "## Use Groundtrack Velocity to Compute Azimuth Spacing"
   ]
  },
  {
   "cell_type": "markdown",
   "id": "441c8803-05fd-426f-ad2d-749bd1557606",
   "metadata": {},
   "source": [
    "Now calculate the spacing as $\\delta T_{{mid}} V_{{GT}}$:"
   ]
  },
  {
   "cell_type": "code",
   "execution_count": 30,
   "id": "e3104235-20fa-43ee-9bca-5bcf4988b812",
   "metadata": {},
   "outputs": [
    {
     "name": "stdout",
     "output_type": "stream",
     "text": [
      "Computed from ground track velocity mid-range sceneCenterAlongTrackSpacing = 22.4201\n",
      "Computed from ground track velocity far range sceneCenterAlongTrackSpacing = 22.4055\n",
      "Computed from ground track velocity near range sceneCenterAlongTrackSpacing = 22.4356\n"
     ]
    }
   ],
   "source": [
    "azspVGT = myRIFG.groundTrackVelocityCube([myRIFG.MLCenterRange], [myRIFG.MLMidZeroDopplerTime],[0]).item() * myRIFG.MLZeroDopplerTimeSpacing\n",
    "print(f'Computed from ground track velocity mid-range sceneCenterAlongTrackSpacing = {azspVGT:.4f}')\n",
    "azspVGT = myRIFG.groundTrackVelocityCube([myRIFG.MLFarRange], [myRIFG.MLMidZeroDopplerTime],[0]).item() * myRIFG.MLZeroDopplerTimeSpacing\n",
    "print(f'Computed from ground track velocity far range sceneCenterAlongTrackSpacing = {azspVGT:.4f}')\n",
    "azspVGT = myRIFG.groundTrackVelocityCube([myRIFG.MLNearRange], [myRIFG.MLMidZeroDopplerTime],[0]).item() * myRIFG.MLZeroDopplerTimeSpacing\n",
    "print(f'Computed from ground track velocity near range sceneCenterAlongTrackSpacing = {azspVGT:.4f}')"
   ]
  },
  {
   "cell_type": "markdown",
   "id": "04efd33e-393f-4acd-b2ee-fb2d33c1ec54",
   "metadata": {},
   "source": [
    "Now lets check on what the value is in the hdf"
   ]
  },
  {
   "cell_type": "code",
   "execution_count": 31,
   "id": "366468be-3e6b-4811-96d4-cb6d602423d9",
   "metadata": {},
   "outputs": [
    {
     "name": "stdout",
     "output_type": "stream",
     "text": [
      "hdf sceneCenterAlongTrackSpacing = 22.5149\n"
     ]
    }
   ],
   "source": [
    "print(f\"hdf sceneCenterAlongTrackSpacing = {np.array(myRIFG.h5['RIFG']['swaths']['frequencyA']['interferogram']['sceneCenterAlongTrackSpacing']).item():.4f}\")"
   ]
  },
  {
   "cell_type": "markdown",
   "id": "9096a9e8-02b4-4088-97e4-ca7293684915",
   "metadata": {},
   "source": [
    "Instead of being the tie breaker, we have a completely different number?"
   ]
  },
  {
   "cell_type": "code",
   "execution_count": 7,
   "id": "2a6e5acf-4325-4538-b55f-c6be53b95c83",
   "metadata": {},
   "outputs": [
    {
     "name": "stdout",
     "output_type": "stream",
     "text": [
      "/home/ian/PycharmProjects/packages/nisarhdf/Notebooks\n"
     ]
    }
   ],
   "source": [
    "!pwd"
   ]
  },
  {
   "cell_type": "code",
   "execution_count": null,
   "id": "089ffd51-4172-4077-88d2-2f59a3c60e0b",
   "metadata": {},
   "outputs": [],
   "source": []
  }
 ],
 "metadata": {
  "kernelspec": {
   "display_name": "Python 3",
   "language": "python",
   "name": "python3"
  },
  "language_info": {
   "codemirror_mode": {
    "name": "ipython",
    "version": 3
   },
   "file_extension": ".py",
   "mimetype": "text/x-python",
   "name": "python",
   "nbconvert_exporter": "python",
   "pygments_lexer": "ipython3",
   "version": "3.10.14"
  }
 },
 "nbformat": 4,
 "nbformat_minor": 5
}
