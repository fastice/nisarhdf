{
 "cells": [
  {
   "cell_type": "markdown",
   "id": "3028c1f3-9afa-407f-a71f-ff3fd13216dd",
   "metadata": {},
   "source": [
    "# NISAR S3 Listing Tutorial"
   ]
  },
  {
   "cell_type": "markdown",
   "id": "c7c03803-e9e7-4f88-a30f-9cfb41147afc",
   "metadata": {},
   "source": [
    "This notebook gives a brief tutorial of a Python utility to help make it easier to search S3 buckets for NISAR data (or any other s3 hiearchy). "
   ]
  },
  {
   "cell_type": "markdown",
   "id": "29fdeacf-48a3-431e-afe3-2c909df76270",
   "metadata": {},
   "source": [
    "## s3ls"
   ]
  },
  {
   "cell_type": "markdown",
   "id": "3d9cbda3-5546-4807-a556-d681993b9871",
   "metadata": {},
   "source": [
    "### Usage statement"
   ]
  },
  {
   "cell_type": "code",
   "execution_count": 2,
   "id": "c8cf89ee-9e0f-4b32-a124-abfeb4050a08",
   "metadata": {},
   "outputs": [
    {
     "name": "stdout",
     "output_type": "stream",
     "text": [
      "usage: s3ls [-h] [--nameFilter NAMEFILTER] [--excludeName EXCLUDENAME]\n",
      "            [--fileEndsWith FILEENDSWITH] [--maxLevels MAXLEVELS] [--flat]\n",
      "            s3link\n",
      "\n",
      "\u001b[1mGet S3 recursive bucket listing\u001b[0m\n",
      "\n",
      "positional arguments:\n",
      "  s3link                s3 bucket to query\n",
      "\n",
      "options:\n",
      "  -h, --help            show this help message and exit\n",
      "  --nameFilter NAMEFILTER\n",
      "                        Only include paths containing this substring\n",
      "  --excludeName EXCLUDENAME\n",
      "                        Exclude paths containing this substring\n",
      "  --fileEndsWith FILEENDSWITH\n",
      "                        Only include files ending with this string, e.g.,\n",
      "                        \".h5\"\n",
      "  --maxLevels MAXLEVELS\n",
      "                        Maximum recursion depth for directories; None =\n",
      "                        recurse fully\n",
      "  --flat                Print files as a flat list of full paths instead of a\n",
      "                        tabbed hierarchy\n"
     ]
    }
   ],
   "source": [
    "!s3ls --help"
   ]
  },
  {
   "cell_type": "markdown",
   "id": "7700afdc-c13b-42a0-b6f1-7509e3e244b5",
   "metadata": {},
   "source": [
    "### Search With Filters"
   ]
  },
  {
   "cell_type": "markdown",
   "id": "84c82ecc-f3b7-4709-9e0f-d6d216ecc588",
   "metadata": {},
   "source": [
    "This command will find all of `*DHDH*` files in the path `s3://nisar-adt-batch/commissioning/adt-on-demand/products/L1_L_RSLC/2025/09/16/` that end with '.h5' and to avoid clutter it will discard the h5 `STAT` files, with the result piped to head to avoid a long list. ** Note the broken pipe error is a notebook issue, it works fine with a command line**"
   ]
  },
  {
   "cell_type": "code",
   "execution_count": 4,
   "id": "48190fe7-4756-4592-b735-a76168ab0423",
   "metadata": {},
   "outputs": [
    {
     "name": "stdout",
     "output_type": "stream",
     "text": [
      "s3://nisar-adt-batch/commissioning/adt-on-demand/products/L1_L_RSLC/2025/09/16/\n",
      "\tNISAR_L1_PR_RSLC_004_169_D_001_4005_DHDH_A_20250916T013246_20250916T013320_A00408_P_P_J_001/\n",
      "\t\tNISAR_L1_PR_RSLC_004_169_D_001_4005_DHDH_A_20250916T013246_20250916T013320_A00408_P_P_J_001.h5\n",
      "\tNISAR_L1_PR_RSLC_004_169_D_002_4005_DHDH_A_20250916T013318_20250916T013352_A00408_P_P_J_001/\n",
      "\t\tNISAR_L1_PR_RSLC_004_169_D_002_4005_DHDH_A_20250916T013318_20250916T013352_A00408_P_P_J_001.h5\n",
      "\tNISAR_L1_PR_RSLC_004_169_D_003_4005_DHDH_A_20250916T013350_20250916T013424_A00408_P_P_J_001/\n",
      "\t\tNISAR_L1_PR_RSLC_004_169_D_003_4005_DHDH_A_20250916T013350_20250916T013424_A00408_P_P_J_001.h5\n",
      "\tNISAR_L1_PR_RSLC_004_169_D_004_4005_DHDH_A_20250916T013422_20250916T013456_A00408_P_P_J_001/\n",
      "\t\tNISAR_L1_PR_RSLC_004_169_D_004_4005_DHDH_A_20250916T013422_20250916T013456_A00408_P_P_J_001.h5\n",
      "\tNISAR_L1_PR_RSLC_004_169_D_005_4005_DHDH_A_20250916T013454_20250916T013528_A00408_P_P_J_001/\n",
      "Exception ignored in: <_io.TextIOWrapper name='<stdout>' mode='w' encoding='utf-8'>\n",
      "BrokenPipeError: [Errno 32] Broken pipe\n"
     ]
    }
   ],
   "source": [
    "!s3ls s3://nisar-adt-batch/commissioning/adt-on-demand/products/L1_L_RSLC/2025/09/16/ --nameFilter DHDH  --fileEndsWith '.h5' --excludeName STATS | head -10"
   ]
  },
  {
   "cell_type": "markdown",
   "id": "0caef28d-8b3f-41de-96de-db82cc9fe30c",
   "metadata": {},
   "source": [
    "In some cases, its easier to cut and paste a complete link rather than have the result displayed as a tabbed hierarchy. The results can be displayed as full paths with the `--flat` flag."
   ]
  },
  {
   "cell_type": "code",
   "execution_count": 6,
   "id": "dae8dd6c-6e43-46cf-a4d9-211d61a4da91",
   "metadata": {},
   "outputs": [
    {
     "name": "stdout",
     "output_type": "stream",
     "text": [
      "s3://nisar-adt-batch/commissioning/adt-on-demand/products/L2_L_GCOV/2025/09/16/\n",
      "s3://nisar-adt-batch/commissioning/adt-on-demand/products/L2_L_GCOV/2025/09/16/NISAR_L2_PR_GCOV_004_169_D_001_4005_DHDH_A_20250916T013246_20250916T013320_S00408_P_P_J_001/NISAR_L2_PR_GCOV_004_169_D_001_4005_DHDH_A_20250916T013246_20250916T013320_S00408_P_P_J_001.h5\n",
      "s3://nisar-adt-batch/commissioning/adt-on-demand/products/L2_L_GCOV/2025/09/16/NISAR_L2_PR_GCOV_004_169_D_002_4005_DHDH_A_20250916T013318_20250916T013352_S00408_P_P_J_001/NISAR_L2_PR_GCOV_004_169_D_002_4005_DHDH_A_20250916T013318_20250916T013352_S00408_P_P_J_001.h5\n",
      "s3://nisar-adt-batch/commissioning/adt-on-demand/products/L2_L_GCOV/2025/09/16/NISAR_L2_PR_GCOV_004_169_D_003_4005_DHDH_A_20250916T013350_20250916T013424_S00408_P_P_J_001/NISAR_L2_PR_GCOV_004_169_D_003_4005_DHDH_A_20250916T013350_20250916T013424_S00408_P_P_J_001.h5\n",
      "s3://nisar-adt-batch/commissioning/adt-on-demand/products/L2_L_GCOV/2025/09/16/NISAR_L2_PR_GCOV_004_169_D_004_4005_DHDH_A_20250916T013422_20250916T013456_S00408_P_P_J_001/NISAR_L2_PR_GCOV_004_169_D_004_4005_DHDH_A_20250916T013422_20250916T013456_S00408_P_P_J_001.h5\n",
      "s3://nisar-adt-batch/commissioning/adt-on-demand/products/L2_L_GCOV/2025/09/16/NISAR_L2_PR_GCOV_004_169_D_005_4005_DHDH_A_20250916T013454_20250916T013528_S00408_P_P_J_001/NISAR_L2_PR_GCOV_004_169_D_005_4005_DHDH_A_20250916T013454_20250916T013528_S00408_P_P_J_001.h5\n",
      "s3://nisar-adt-batch/commissioning/adt-on-demand/products/L2_L_GCOV/2025/09/16/NISAR_L2_PR_GCOV_004_169_D_006_4005_DHDH_A_20250916T013526_20250916T013545_S00408_P_P_J_001/NISAR_L2_PR_GCOV_004_169_D_006_4005_DHDH_A_20250916T013526_20250916T013545_S00408_P_P_J_001.h5\n",
      "s3://nisar-adt-batch/commissioning/adt-on-demand/products/L2_L_GCOV/2025/09/16/NISAR_L2_PR_GCOV_004_170_A_001_4005_DHDH_A_20250916T024258_20250916T024332_S00408_P_P_J_001/NISAR_L2_PR_GCOV_004_170_A_001_4005_DHDH_A_20250916T024258_20250916T024332_S00408_P_P_J_001.h5\n",
      "s3://nisar-adt-batch/commissioning/adt-on-demand/products/L2_L_GCOV/2025/09/16/NISAR_L2_PR_GCOV_004_170_A_002_4005_DHDH_A_20250916T024330_20250916T024404_S00408_P_P_J_001/NISAR_L2_PR_GCOV_004_170_A_002_4005_DHDH_A_20250916T024330_20250916T024404_S00408_P_P_J_001.h5\n",
      "s3://nisar-adt-batch/commissioning/adt-on-demand/products/L2_L_GCOV/2025/09/16/NISAR_L2_PR_GCOV_004_170_A_003_4005_DHDH_A_20250916T024402_20250916T024436_S00408_P_P_J_001/NISAR_L2_PR_GCOV_004_170_A_003_4005_DHDH_A_20250916T024402_20250916T024436_S00408_P_P_J_001.h5\n",
      "Exception ignored in: <_io.TextIOWrapper name='<stdout>' mode='w' encoding='utf-8'>\n",
      "BrokenPipeError: [Errno 32] Broken pipe\n"
     ]
    }
   ],
   "source": [
    "!s3ls s3://nisar-adt-batch/commissioning/adt-on-demand/products/L2_L_GCOV/2025/09/16/ --nameFilter DHDH --fileEndsWith '.h5' --excludeName STATS --flat | head -10"
   ]
  },
  {
   "cell_type": "markdown",
   "id": "a1fdb408-1970-4f0e-abb8-fbcd64f65064",
   "metadata": {},
   "source": [
    "## Summary Info"
   ]
  },
  {
   "cell_type": "markdown",
   "id": "d131c186-4034-412c-85c4-fa6d9e5de24d",
   "metadata": {},
   "source": [
    "For an easy to read summary of what's in the file:"
   ]
  },
  {
   "cell_type": "code",
   "execution_count": 10,
   "id": "fad83332-515a-4dc8-9f5f-256f0c33d9c9",
   "metadata": {},
   "outputs": [
    {
     "name": "stdout",
     "output_type": "stream",
     "text": [
      "page_buf_size 1073.741824 MB\n",
      "Opening s3://nisar-adt-batch/commissioning/adt-on-demand/products/L2_L_GCOV/2025/09/16/NISAR_L2_PR_GCOV_004_169_D_001_4005_DHDH_A_20250916T013246_20250916T013320_S00408_P_P_J_001/NISAR_L2_PR_GCOV_004_169_D_001_4005_DHDH_A_20250916T013246_20250916T013320_S00408_P_P_J_001.h5 with ros3\n",
      "\n",
      "\u001b[1mDefault polarization:\u001b[0m\n",
      "HV HH \n",
      "\u001b[1mAvailable fields: \u001b[0m\n",
      "HHHH\n",
      "HVHV\n",
      "mask\n",
      "numberOfLooks\n",
      "rtcGammaToSigmaFactor\n",
      "\n",
      "\u001b[1mSelect Parameters\u001b[0m\n",
      "GCOV.track = 169 \n",
      "GCOV.referenceOrbit = 688 \n",
      "GCOV.frame = 1 \n",
      "GCOV.datetime = 2025-09-16 01:32:46 \n",
      "GCOV.centerLat = -112.31273048344839 \n",
      "GCOV.centerLon = 41.960360742802784 \n",
      "GCOV.referenceGranule = NISAR_L1_PR_RSLC_004_169_D_001_4005_DHDH_A_20250916T013246_20250916T013320_A00408_P_P_J_001.h5 \n",
      "GCOV.rangeBandwidth = 40000000.0 \n",
      "GCOV.SLCNearRange = 886811.0734688333 \n",
      "GCOV.SLCFarRange = 1065858.996171229 \n",
      "GCOV.SLCFirstZeroDopplerTime = 5566.0 \n",
      "GCOV.SLCLastZeroDopplerTime = 5600.999342105263 \n",
      "GCOV.LookDirection = right \n",
      "GCOV.PassType = descending \n",
      "GCOV.Wavelength = 0.2419632429378531 \n",
      "GCOV.PRF = 1520.0 \n",
      "GCOV.epsg = 4326 \n",
      "GCOV.xSize = 13746 \n",
      "GCOV.ySize = 8981 \n",
      "GCOV.NumberRangeLooks = Variable \n",
      "GCOV.NumberAzimuthLooks = Variable \n",
      "\n",
      "\u001b[1mData Fields\u001b[0m\n",
      "GCOV.HHHH*\n",
      "GCOV.HVHV*\n",
      "* Indicates data not loaded into memory.\n",
      "\n",
      "\u001b[1mRun time: \u001b[0m\n",
      "Load data 0:00:00.894026\n",
      "Write data 0:00:00.000209\n",
      "Total 0:00:00.894235\n",
      "\n",
      "\u001b[1mNetwork traffic: \u001b[0m\n",
      "Bytes sent: 0.130 MB\n",
      "Bytes received: 33.841 MB\n"
     ]
    }
   ],
   "source": [
    "!nisarh5toimage \\\n",
    "\"s3://nisar-adt-batch/commissioning/adt-on-demand/products/L2_L_GCOV/2025/09/16/NISAR_L2_PR_GCOV_004_169_D_001_4005_DHDH_A_20250916T013246_20250916T013320_S00408_P_P_J_001/NISAR_L2_PR_GCOV_004_169_D_001_4005_DHDH_A_20250916T013246_20250916T013320_S00408_P_P_J_001.h5\" \\\n",
    "--info"
   ]
  },
  {
   "cell_type": "markdown",
   "id": "b68d1d7b-1d26-4b8f-870e-5c07fa6e6cd4",
   "metadata": {},
   "source": [
    "### Quick Look"
   ]
  },
  {
   "cell_type": "code",
   "execution_count": 20,
   "id": "39fb5b6b-dd82-42b5-bbcf-ef8d14054222",
   "metadata": {},
   "outputs": [
    {
     "name": "stdout",
     "output_type": "stream",
     "text": [
      "page_buf_size 1073.741824 MB\n",
      "Opening s3://nisar-adt-batch/commissioning/adt-on-demand/products/L2_L_GCOV/2025/09/16/NISAR_L2_PR_GCOV_004_169_D_001_4005_DHDH_A_20250916T013246_20250916T013320_S00408_P_P_J_001/NISAR_L2_PR_GCOV_004_169_D_001_4005_DHDH_A_20250916T013246_20250916T013320_S00408_P_P_J_001.h5 with ros3\n",
      "/opt/conda/lib/python3.12/site-packages/numpy/core/_methods.py:118: RuntimeWarning: invalid value encountered in reduce\n",
      "  ret = umr_sum(arr, axis, dtype, out, keepdims, where=where)\n",
      "\n",
      "\u001b[1mRun time: \u001b[0m\n",
      "Load data 0:00:10.746807\n",
      "Write data 0:00:00.400083\n",
      "Total 0:00:11.146890\n",
      "\n",
      "\u001b[1mNetwork traffic: \u001b[0m\n",
      "Bytes sent: 2.274 MB\n",
      "Bytes received: 570.773 MB\n",
      "-rw-r--r-- 1 jovyan users 617867 Oct  2 22:23 output/myQuicklook.HHHH.png\n",
      "-rw-r--r-- 1 jovyan users 606015 Oct  2 22:23 output/myQuicklook.HVHV.png\n"
     ]
    }
   ],
   "source": [
    "![ -d output ] || mkdir output\n",
    "!nisarh5toimage \\\n",
    "\"s3://nisar-adt-batch/commissioning/adt-on-demand/products/L2_L_GCOV/2025/09/16/NISAR_L2_PR_GCOV_004_169_D_001_4005_DHDH_A_20250916T013246_20250916T013320_S00408_P_P_J_001/NISAR_L2_PR_GCOV_004_169_D_001_4005_DHDH_A_20250916T013246_20250916T013320_S00408_P_P_J_001.h5\" \\\n",
    "output/myQuicklook  --quickLook --downsampleFactor 12\n",
    "!ls -l output/myQuicklook.*.png"
   ]
  },
  {
   "cell_type": "markdown",
   "id": "137b1577-f5f0-4eb4-9f85-bf1e197f404b",
   "metadata": {},
   "source": [
    "For information on using `nisarh5toimage` to extracted data as raw binary or tiff images see this tutorial [nisarh5toimageTutorial](https://github.com/fastice/nisarhdf/blob/main/Notebooks/nisarh5toimageTutorial.ipynb)."
   ]
  },
  {
   "cell_type": "code",
   "execution_count": null,
   "id": "b3ea9293-43e4-4d80-8a0a-52545adbe0e1",
   "metadata": {},
   "outputs": [],
   "source": []
  }
 ],
 "metadata": {
  "kernelspec": {
   "display_name": "base",
   "language": "python",
   "name": "base"
  },
  "language_info": {
   "codemirror_mode": {
    "name": "ipython",
    "version": 3
   },
   "file_extension": ".py",
   "mimetype": "text/x-python",
   "name": "python",
   "nbconvert_exporter": "python",
   "pygments_lexer": "ipython3",
   "version": "3.12.11"
  }
 },
 "nbformat": 4,
 "nbformat_minor": 5
}
